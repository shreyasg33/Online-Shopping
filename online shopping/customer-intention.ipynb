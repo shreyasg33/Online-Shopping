{
 "cells": [
  {
   "cell_type": "code",
   "execution_count": 1,
   "id": "fa987883",
   "metadata": {
    "execution": {
     "iopub.execute_input": "2022-07-04T15:22:40.653068Z",
     "iopub.status.busy": "2022-07-04T15:22:40.651877Z",
     "iopub.status.idle": "2022-07-04T15:22:42.205334Z",
     "shell.execute_reply": "2022-07-04T15:22:42.203563Z"
    },
    "executionInfo": {
     "elapsed": 1046,
     "status": "ok",
     "timestamp": 1656946733259,
     "user": {
      "displayName": "Lakshit Jain",
      "userId": "03169305328764918919"
     },
     "user_tz": -330
    },
    "id": "rsV6AV72QGlr",
    "papermill": {
     "duration": 1.585305,
     "end_time": "2022-07-04T15:22:42.209459",
     "exception": false,
     "start_time": "2022-07-04T15:22:40.624154",
     "status": "completed"
    },
    "tags": []
   },
   "outputs": [],
   "source": [
    "import numpy as np\n",
    "import pandas as pd\n",
    "import matplotlib.pyplot as plt\n",
    "import seaborn as sns"
   ]
  },
  {
   "cell_type": "markdown",
   "id": "a6cb9798",
   "metadata": {
    "id": "QfbSQztpNHJn",
    "papermill": {
     "duration": 0.020326,
     "end_time": "2022-07-04T15:22:42.251354",
     "exception": false,
     "start_time": "2022-07-04T15:22:42.231028",
     "status": "completed"
    },
    "tags": []
   },
   "source": [
    "#### Loading the dataset"
   ]
  },
  {
   "cell_type": "code",
   "execution_count": 2,
   "id": "bc843772",
   "metadata": {
    "execution": {
     "iopub.execute_input": "2022-07-04T15:22:42.293307Z",
     "iopub.status.busy": "2022-07-04T15:22:42.292862Z",
     "iopub.status.idle": "2022-07-04T15:22:42.411387Z",
     "shell.execute_reply": "2022-07-04T15:22:42.409834Z"
    },
    "executionInfo": {
     "elapsed": 977,
     "status": "ok",
     "timestamp": 1656946735119,
     "user": {
      "displayName": "Lakshit Jain",
      "userId": "03169305328764918919"
     },
     "user_tz": -330
    },
    "id": "WgKIM2EOSAqv",
    "outputId": "d33d43bd-9b6f-41f5-dc77-da069179b525",
    "papermill": {
     "duration": 0.143724,
     "end_time": "2022-07-04T15:22:42.415860",
     "exception": false,
     "start_time": "2022-07-04T15:22:42.272136",
     "status": "completed"
    },
    "tags": []
   },
   "outputs": [
    {
     "data": {
      "text/html": [
       "<div>\n",
       "<style scoped>\n",
       "    .dataframe tbody tr th:only-of-type {\n",
       "        vertical-align: middle;\n",
       "    }\n",
       "\n",
       "    .dataframe tbody tr th {\n",
       "        vertical-align: top;\n",
       "    }\n",
       "\n",
       "    .dataframe thead th {\n",
       "        text-align: right;\n",
       "    }\n",
       "</style>\n",
       "<table border=\"1\" class=\"dataframe\">\n",
       "  <thead>\n",
       "    <tr style=\"text-align: right;\">\n",
       "      <th></th>\n",
       "      <th>Administrative</th>\n",
       "      <th>Administrative_Duration</th>\n",
       "      <th>Informational</th>\n",
       "      <th>Informational_Duration</th>\n",
       "      <th>ProductRelated</th>\n",
       "      <th>ProductRelated_Duration</th>\n",
       "      <th>BounceRates</th>\n",
       "      <th>ExitRates</th>\n",
       "      <th>PageValues</th>\n",
       "      <th>SpecialDay</th>\n",
       "      <th>Month</th>\n",
       "      <th>OperatingSystems</th>\n",
       "      <th>Browser</th>\n",
       "      <th>Region</th>\n",
       "      <th>TrafficType</th>\n",
       "      <th>VisitorType</th>\n",
       "      <th>Weekend</th>\n",
       "      <th>Revenue</th>\n",
       "    </tr>\n",
       "  </thead>\n",
       "  <tbody>\n",
       "    <tr>\n",
       "      <th>0</th>\n",
       "      <td>0</td>\n",
       "      <td>0.0</td>\n",
       "      <td>0</td>\n",
       "      <td>0.0</td>\n",
       "      <td>1</td>\n",
       "      <td>0.000000</td>\n",
       "      <td>0.200000</td>\n",
       "      <td>0.200000</td>\n",
       "      <td>0.000000</td>\n",
       "      <td>0.0</td>\n",
       "      <td>Feb</td>\n",
       "      <td>1</td>\n",
       "      <td>1</td>\n",
       "      <td>1</td>\n",
       "      <td>1</td>\n",
       "      <td>Returning_Visitor</td>\n",
       "      <td>False</td>\n",
       "      <td>False</td>\n",
       "    </tr>\n",
       "    <tr>\n",
       "      <th>1</th>\n",
       "      <td>0</td>\n",
       "      <td>0.0</td>\n",
       "      <td>0</td>\n",
       "      <td>0.0</td>\n",
       "      <td>2</td>\n",
       "      <td>64.000000</td>\n",
       "      <td>0.000000</td>\n",
       "      <td>0.100000</td>\n",
       "      <td>0.000000</td>\n",
       "      <td>0.0</td>\n",
       "      <td>Feb</td>\n",
       "      <td>2</td>\n",
       "      <td>2</td>\n",
       "      <td>1</td>\n",
       "      <td>2</td>\n",
       "      <td>Returning_Visitor</td>\n",
       "      <td>False</td>\n",
       "      <td>False</td>\n",
       "    </tr>\n",
       "    <tr>\n",
       "      <th>2</th>\n",
       "      <td>0</td>\n",
       "      <td>0.0</td>\n",
       "      <td>0</td>\n",
       "      <td>0.0</td>\n",
       "      <td>1</td>\n",
       "      <td>0.000000</td>\n",
       "      <td>0.200000</td>\n",
       "      <td>0.200000</td>\n",
       "      <td>0.000000</td>\n",
       "      <td>0.0</td>\n",
       "      <td>Feb</td>\n",
       "      <td>4</td>\n",
       "      <td>1</td>\n",
       "      <td>9</td>\n",
       "      <td>3</td>\n",
       "      <td>Returning_Visitor</td>\n",
       "      <td>False</td>\n",
       "      <td>False</td>\n",
       "    </tr>\n",
       "    <tr>\n",
       "      <th>3</th>\n",
       "      <td>0</td>\n",
       "      <td>0.0</td>\n",
       "      <td>0</td>\n",
       "      <td>0.0</td>\n",
       "      <td>2</td>\n",
       "      <td>2.666667</td>\n",
       "      <td>0.050000</td>\n",
       "      <td>0.140000</td>\n",
       "      <td>0.000000</td>\n",
       "      <td>0.0</td>\n",
       "      <td>Feb</td>\n",
       "      <td>3</td>\n",
       "      <td>2</td>\n",
       "      <td>2</td>\n",
       "      <td>4</td>\n",
       "      <td>Returning_Visitor</td>\n",
       "      <td>False</td>\n",
       "      <td>False</td>\n",
       "    </tr>\n",
       "    <tr>\n",
       "      <th>4</th>\n",
       "      <td>0</td>\n",
       "      <td>0.0</td>\n",
       "      <td>0</td>\n",
       "      <td>0.0</td>\n",
       "      <td>10</td>\n",
       "      <td>627.500000</td>\n",
       "      <td>0.020000</td>\n",
       "      <td>0.050000</td>\n",
       "      <td>0.000000</td>\n",
       "      <td>0.0</td>\n",
       "      <td>Feb</td>\n",
       "      <td>3</td>\n",
       "      <td>3</td>\n",
       "      <td>1</td>\n",
       "      <td>4</td>\n",
       "      <td>Returning_Visitor</td>\n",
       "      <td>True</td>\n",
       "      <td>False</td>\n",
       "    </tr>\n",
       "    <tr>\n",
       "      <th>...</th>\n",
       "      <td>...</td>\n",
       "      <td>...</td>\n",
       "      <td>...</td>\n",
       "      <td>...</td>\n",
       "      <td>...</td>\n",
       "      <td>...</td>\n",
       "      <td>...</td>\n",
       "      <td>...</td>\n",
       "      <td>...</td>\n",
       "      <td>...</td>\n",
       "      <td>...</td>\n",
       "      <td>...</td>\n",
       "      <td>...</td>\n",
       "      <td>...</td>\n",
       "      <td>...</td>\n",
       "      <td>...</td>\n",
       "      <td>...</td>\n",
       "      <td>...</td>\n",
       "    </tr>\n",
       "    <tr>\n",
       "      <th>12325</th>\n",
       "      <td>3</td>\n",
       "      <td>145.0</td>\n",
       "      <td>0</td>\n",
       "      <td>0.0</td>\n",
       "      <td>53</td>\n",
       "      <td>1783.791667</td>\n",
       "      <td>0.007143</td>\n",
       "      <td>0.029031</td>\n",
       "      <td>12.241717</td>\n",
       "      <td>0.0</td>\n",
       "      <td>Dec</td>\n",
       "      <td>4</td>\n",
       "      <td>6</td>\n",
       "      <td>1</td>\n",
       "      <td>1</td>\n",
       "      <td>Returning_Visitor</td>\n",
       "      <td>True</td>\n",
       "      <td>False</td>\n",
       "    </tr>\n",
       "    <tr>\n",
       "      <th>12326</th>\n",
       "      <td>0</td>\n",
       "      <td>0.0</td>\n",
       "      <td>0</td>\n",
       "      <td>0.0</td>\n",
       "      <td>5</td>\n",
       "      <td>465.750000</td>\n",
       "      <td>0.000000</td>\n",
       "      <td>0.021333</td>\n",
       "      <td>0.000000</td>\n",
       "      <td>0.0</td>\n",
       "      <td>Nov</td>\n",
       "      <td>3</td>\n",
       "      <td>2</td>\n",
       "      <td>1</td>\n",
       "      <td>8</td>\n",
       "      <td>Returning_Visitor</td>\n",
       "      <td>True</td>\n",
       "      <td>False</td>\n",
       "    </tr>\n",
       "    <tr>\n",
       "      <th>12327</th>\n",
       "      <td>0</td>\n",
       "      <td>0.0</td>\n",
       "      <td>0</td>\n",
       "      <td>0.0</td>\n",
       "      <td>6</td>\n",
       "      <td>184.250000</td>\n",
       "      <td>0.083333</td>\n",
       "      <td>0.086667</td>\n",
       "      <td>0.000000</td>\n",
       "      <td>0.0</td>\n",
       "      <td>Nov</td>\n",
       "      <td>3</td>\n",
       "      <td>2</td>\n",
       "      <td>1</td>\n",
       "      <td>13</td>\n",
       "      <td>Returning_Visitor</td>\n",
       "      <td>True</td>\n",
       "      <td>False</td>\n",
       "    </tr>\n",
       "    <tr>\n",
       "      <th>12328</th>\n",
       "      <td>4</td>\n",
       "      <td>75.0</td>\n",
       "      <td>0</td>\n",
       "      <td>0.0</td>\n",
       "      <td>15</td>\n",
       "      <td>346.000000</td>\n",
       "      <td>0.000000</td>\n",
       "      <td>0.021053</td>\n",
       "      <td>0.000000</td>\n",
       "      <td>0.0</td>\n",
       "      <td>Nov</td>\n",
       "      <td>2</td>\n",
       "      <td>2</td>\n",
       "      <td>3</td>\n",
       "      <td>11</td>\n",
       "      <td>Returning_Visitor</td>\n",
       "      <td>False</td>\n",
       "      <td>False</td>\n",
       "    </tr>\n",
       "    <tr>\n",
       "      <th>12329</th>\n",
       "      <td>0</td>\n",
       "      <td>0.0</td>\n",
       "      <td>0</td>\n",
       "      <td>0.0</td>\n",
       "      <td>3</td>\n",
       "      <td>21.250000</td>\n",
       "      <td>0.000000</td>\n",
       "      <td>0.066667</td>\n",
       "      <td>0.000000</td>\n",
       "      <td>0.0</td>\n",
       "      <td>Nov</td>\n",
       "      <td>3</td>\n",
       "      <td>2</td>\n",
       "      <td>1</td>\n",
       "      <td>2</td>\n",
       "      <td>New_Visitor</td>\n",
       "      <td>True</td>\n",
       "      <td>False</td>\n",
       "    </tr>\n",
       "  </tbody>\n",
       "</table>\n",
       "<p>12330 rows × 18 columns</p>\n",
       "</div>"
      ],
      "text/plain": [
       "       Administrative  Administrative_Duration  Informational  \\\n",
       "0                   0                      0.0              0   \n",
       "1                   0                      0.0              0   \n",
       "2                   0                      0.0              0   \n",
       "3                   0                      0.0              0   \n",
       "4                   0                      0.0              0   \n",
       "...               ...                      ...            ...   \n",
       "12325               3                    145.0              0   \n",
       "12326               0                      0.0              0   \n",
       "12327               0                      0.0              0   \n",
       "12328               4                     75.0              0   \n",
       "12329               0                      0.0              0   \n",
       "\n",
       "       Informational_Duration  ProductRelated  ProductRelated_Duration  \\\n",
       "0                         0.0               1                 0.000000   \n",
       "1                         0.0               2                64.000000   \n",
       "2                         0.0               1                 0.000000   \n",
       "3                         0.0               2                 2.666667   \n",
       "4                         0.0              10               627.500000   \n",
       "...                       ...             ...                      ...   \n",
       "12325                     0.0              53              1783.791667   \n",
       "12326                     0.0               5               465.750000   \n",
       "12327                     0.0               6               184.250000   \n",
       "12328                     0.0              15               346.000000   \n",
       "12329                     0.0               3                21.250000   \n",
       "\n",
       "       BounceRates  ExitRates  PageValues  SpecialDay Month  OperatingSystems  \\\n",
       "0         0.200000   0.200000    0.000000         0.0   Feb                 1   \n",
       "1         0.000000   0.100000    0.000000         0.0   Feb                 2   \n",
       "2         0.200000   0.200000    0.000000         0.0   Feb                 4   \n",
       "3         0.050000   0.140000    0.000000         0.0   Feb                 3   \n",
       "4         0.020000   0.050000    0.000000         0.0   Feb                 3   \n",
       "...            ...        ...         ...         ...   ...               ...   \n",
       "12325     0.007143   0.029031   12.241717         0.0   Dec                 4   \n",
       "12326     0.000000   0.021333    0.000000         0.0   Nov                 3   \n",
       "12327     0.083333   0.086667    0.000000         0.0   Nov                 3   \n",
       "12328     0.000000   0.021053    0.000000         0.0   Nov                 2   \n",
       "12329     0.000000   0.066667    0.000000         0.0   Nov                 3   \n",
       "\n",
       "       Browser  Region  TrafficType        VisitorType  Weekend  Revenue  \n",
       "0            1       1            1  Returning_Visitor    False    False  \n",
       "1            2       1            2  Returning_Visitor    False    False  \n",
       "2            1       9            3  Returning_Visitor    False    False  \n",
       "3            2       2            4  Returning_Visitor    False    False  \n",
       "4            3       1            4  Returning_Visitor     True    False  \n",
       "...        ...     ...          ...                ...      ...      ...  \n",
       "12325        6       1            1  Returning_Visitor     True    False  \n",
       "12326        2       1            8  Returning_Visitor     True    False  \n",
       "12327        2       1           13  Returning_Visitor     True    False  \n",
       "12328        2       3           11  Returning_Visitor    False    False  \n",
       "12329        2       1            2        New_Visitor     True    False  \n",
       "\n",
       "[12330 rows x 18 columns]"
      ]
     },
     "execution_count": 2,
     "metadata": {},
     "output_type": "execute_result"
    }
   ],
   "source": [
    "df = pd.read_csv(\"/kaggle/input/online-shoppers-intention/online_shoppers_intention.csv\")\n",
    "df"
   ]
  },
  {
   "cell_type": "markdown",
   "id": "e9188b93",
   "metadata": {
    "id": "HUtdpWH7NS3c",
    "papermill": {
     "duration": 0.022634,
     "end_time": "2022-07-04T15:22:42.459392",
     "exception": false,
     "start_time": "2022-07-04T15:22:42.436758",
     "status": "completed"
    },
    "tags": []
   },
   "source": [
    "#### Basic info about our dataset"
   ]
  },
  {
   "cell_type": "code",
   "execution_count": 3,
   "id": "07390b57",
   "metadata": {
    "execution": {
     "iopub.execute_input": "2022-07-04T15:22:42.504878Z",
     "iopub.status.busy": "2022-07-04T15:22:42.504316Z",
     "iopub.status.idle": "2022-07-04T15:22:42.537915Z",
     "shell.execute_reply": "2022-07-04T15:22:42.536863Z"
    },
    "executionInfo": {
     "elapsed": 36,
     "status": "ok",
     "timestamp": 1656946735120,
     "user": {
      "displayName": "Lakshit Jain",
      "userId": "03169305328764918919"
     },
     "user_tz": -330
    },
    "id": "5yUdQS1xXsM9",
    "outputId": "a82ddf82-e1cb-4136-a721-44b43f4f5b66",
    "papermill": {
     "duration": 0.060891,
     "end_time": "2022-07-04T15:22:42.541608",
     "exception": false,
     "start_time": "2022-07-04T15:22:42.480717",
     "status": "completed"
    },
    "tags": []
   },
   "outputs": [
    {
     "name": "stdout",
     "output_type": "stream",
     "text": [
      "<class 'pandas.core.frame.DataFrame'>\n",
      "RangeIndex: 12330 entries, 0 to 12329\n",
      "Data columns (total 18 columns):\n",
      " #   Column                   Non-Null Count  Dtype  \n",
      "---  ------                   --------------  -----  \n",
      " 0   Administrative           12330 non-null  int64  \n",
      " 1   Administrative_Duration  12330 non-null  float64\n",
      " 2   Informational            12330 non-null  int64  \n",
      " 3   Informational_Duration   12330 non-null  float64\n",
      " 4   ProductRelated           12330 non-null  int64  \n",
      " 5   ProductRelated_Duration  12330 non-null  float64\n",
      " 6   BounceRates              12330 non-null  float64\n",
      " 7   ExitRates                12330 non-null  float64\n",
      " 8   PageValues               12330 non-null  float64\n",
      " 9   SpecialDay               12330 non-null  float64\n",
      " 10  Month                    12330 non-null  object \n",
      " 11  OperatingSystems         12330 non-null  int64  \n",
      " 12  Browser                  12330 non-null  int64  \n",
      " 13  Region                   12330 non-null  int64  \n",
      " 14  TrafficType              12330 non-null  int64  \n",
      " 15  VisitorType              12330 non-null  object \n",
      " 16  Weekend                  12330 non-null  bool   \n",
      " 17  Revenue                  12330 non-null  bool   \n",
      "dtypes: bool(2), float64(7), int64(7), object(2)\n",
      "memory usage: 1.5+ MB\n"
     ]
    }
   ],
   "source": [
    "df.info()"
   ]
  },
  {
   "cell_type": "code",
   "execution_count": 4,
   "id": "d4070ddb",
   "metadata": {
    "execution": {
     "iopub.execute_input": "2022-07-04T15:22:42.589766Z",
     "iopub.status.busy": "2022-07-04T15:22:42.587785Z",
     "iopub.status.idle": "2022-07-04T15:22:42.659349Z",
     "shell.execute_reply": "2022-07-04T15:22:42.657567Z"
    },
    "executionInfo": {
     "elapsed": 32,
     "status": "ok",
     "timestamp": 1656946735120,
     "user": {
      "displayName": "Lakshit Jain",
      "userId": "03169305328764918919"
     },
     "user_tz": -330
    },
    "id": "ChuUdx4AX1Kl",
    "outputId": "c916d1d2-7497-42db-cb69-fdfb170bc6bd",
    "papermill": {
     "duration": 0.099964,
     "end_time": "2022-07-04T15:22:42.662480",
     "exception": false,
     "start_time": "2022-07-04T15:22:42.562516",
     "status": "completed"
    },
    "tags": []
   },
   "outputs": [
    {
     "data": {
      "text/html": [
       "<div>\n",
       "<style scoped>\n",
       "    .dataframe tbody tr th:only-of-type {\n",
       "        vertical-align: middle;\n",
       "    }\n",
       "\n",
       "    .dataframe tbody tr th {\n",
       "        vertical-align: top;\n",
       "    }\n",
       "\n",
       "    .dataframe thead th {\n",
       "        text-align: right;\n",
       "    }\n",
       "</style>\n",
       "<table border=\"1\" class=\"dataframe\">\n",
       "  <thead>\n",
       "    <tr style=\"text-align: right;\">\n",
       "      <th></th>\n",
       "      <th>Administrative</th>\n",
       "      <th>Administrative_Duration</th>\n",
       "      <th>Informational</th>\n",
       "      <th>Informational_Duration</th>\n",
       "      <th>ProductRelated</th>\n",
       "      <th>ProductRelated_Duration</th>\n",
       "      <th>BounceRates</th>\n",
       "      <th>ExitRates</th>\n",
       "      <th>PageValues</th>\n",
       "      <th>SpecialDay</th>\n",
       "      <th>OperatingSystems</th>\n",
       "      <th>Browser</th>\n",
       "      <th>Region</th>\n",
       "      <th>TrafficType</th>\n",
       "    </tr>\n",
       "  </thead>\n",
       "  <tbody>\n",
       "    <tr>\n",
       "      <th>count</th>\n",
       "      <td>12330.000000</td>\n",
       "      <td>12330.000000</td>\n",
       "      <td>12330.000000</td>\n",
       "      <td>12330.000000</td>\n",
       "      <td>12330.000000</td>\n",
       "      <td>12330.000000</td>\n",
       "      <td>12330.000000</td>\n",
       "      <td>12330.000000</td>\n",
       "      <td>12330.000000</td>\n",
       "      <td>12330.000000</td>\n",
       "      <td>12330.000000</td>\n",
       "      <td>12330.000000</td>\n",
       "      <td>12330.000000</td>\n",
       "      <td>12330.000000</td>\n",
       "    </tr>\n",
       "    <tr>\n",
       "      <th>mean</th>\n",
       "      <td>2.315166</td>\n",
       "      <td>80.818611</td>\n",
       "      <td>0.503569</td>\n",
       "      <td>34.472398</td>\n",
       "      <td>31.731468</td>\n",
       "      <td>1194.746220</td>\n",
       "      <td>0.022191</td>\n",
       "      <td>0.043073</td>\n",
       "      <td>5.889258</td>\n",
       "      <td>0.061427</td>\n",
       "      <td>2.124006</td>\n",
       "      <td>2.357097</td>\n",
       "      <td>3.147364</td>\n",
       "      <td>4.069586</td>\n",
       "    </tr>\n",
       "    <tr>\n",
       "      <th>std</th>\n",
       "      <td>3.321784</td>\n",
       "      <td>176.779107</td>\n",
       "      <td>1.270156</td>\n",
       "      <td>140.749294</td>\n",
       "      <td>44.475503</td>\n",
       "      <td>1913.669288</td>\n",
       "      <td>0.048488</td>\n",
       "      <td>0.048597</td>\n",
       "      <td>18.568437</td>\n",
       "      <td>0.198917</td>\n",
       "      <td>0.911325</td>\n",
       "      <td>1.717277</td>\n",
       "      <td>2.401591</td>\n",
       "      <td>4.025169</td>\n",
       "    </tr>\n",
       "    <tr>\n",
       "      <th>min</th>\n",
       "      <td>0.000000</td>\n",
       "      <td>0.000000</td>\n",
       "      <td>0.000000</td>\n",
       "      <td>0.000000</td>\n",
       "      <td>0.000000</td>\n",
       "      <td>0.000000</td>\n",
       "      <td>0.000000</td>\n",
       "      <td>0.000000</td>\n",
       "      <td>0.000000</td>\n",
       "      <td>0.000000</td>\n",
       "      <td>1.000000</td>\n",
       "      <td>1.000000</td>\n",
       "      <td>1.000000</td>\n",
       "      <td>1.000000</td>\n",
       "    </tr>\n",
       "    <tr>\n",
       "      <th>25%</th>\n",
       "      <td>0.000000</td>\n",
       "      <td>0.000000</td>\n",
       "      <td>0.000000</td>\n",
       "      <td>0.000000</td>\n",
       "      <td>7.000000</td>\n",
       "      <td>184.137500</td>\n",
       "      <td>0.000000</td>\n",
       "      <td>0.014286</td>\n",
       "      <td>0.000000</td>\n",
       "      <td>0.000000</td>\n",
       "      <td>2.000000</td>\n",
       "      <td>2.000000</td>\n",
       "      <td>1.000000</td>\n",
       "      <td>2.000000</td>\n",
       "    </tr>\n",
       "    <tr>\n",
       "      <th>50%</th>\n",
       "      <td>1.000000</td>\n",
       "      <td>7.500000</td>\n",
       "      <td>0.000000</td>\n",
       "      <td>0.000000</td>\n",
       "      <td>18.000000</td>\n",
       "      <td>598.936905</td>\n",
       "      <td>0.003112</td>\n",
       "      <td>0.025156</td>\n",
       "      <td>0.000000</td>\n",
       "      <td>0.000000</td>\n",
       "      <td>2.000000</td>\n",
       "      <td>2.000000</td>\n",
       "      <td>3.000000</td>\n",
       "      <td>2.000000</td>\n",
       "    </tr>\n",
       "    <tr>\n",
       "      <th>75%</th>\n",
       "      <td>4.000000</td>\n",
       "      <td>93.256250</td>\n",
       "      <td>0.000000</td>\n",
       "      <td>0.000000</td>\n",
       "      <td>38.000000</td>\n",
       "      <td>1464.157214</td>\n",
       "      <td>0.016813</td>\n",
       "      <td>0.050000</td>\n",
       "      <td>0.000000</td>\n",
       "      <td>0.000000</td>\n",
       "      <td>3.000000</td>\n",
       "      <td>2.000000</td>\n",
       "      <td>4.000000</td>\n",
       "      <td>4.000000</td>\n",
       "    </tr>\n",
       "    <tr>\n",
       "      <th>max</th>\n",
       "      <td>27.000000</td>\n",
       "      <td>3398.750000</td>\n",
       "      <td>24.000000</td>\n",
       "      <td>2549.375000</td>\n",
       "      <td>705.000000</td>\n",
       "      <td>63973.522230</td>\n",
       "      <td>0.200000</td>\n",
       "      <td>0.200000</td>\n",
       "      <td>361.763742</td>\n",
       "      <td>1.000000</td>\n",
       "      <td>8.000000</td>\n",
       "      <td>13.000000</td>\n",
       "      <td>9.000000</td>\n",
       "      <td>20.000000</td>\n",
       "    </tr>\n",
       "  </tbody>\n",
       "</table>\n",
       "</div>"
      ],
      "text/plain": [
       "       Administrative  Administrative_Duration  Informational  \\\n",
       "count    12330.000000             12330.000000   12330.000000   \n",
       "mean         2.315166                80.818611       0.503569   \n",
       "std          3.321784               176.779107       1.270156   \n",
       "min          0.000000                 0.000000       0.000000   \n",
       "25%          0.000000                 0.000000       0.000000   \n",
       "50%          1.000000                 7.500000       0.000000   \n",
       "75%          4.000000                93.256250       0.000000   \n",
       "max         27.000000              3398.750000      24.000000   \n",
       "\n",
       "       Informational_Duration  ProductRelated  ProductRelated_Duration  \\\n",
       "count            12330.000000    12330.000000             12330.000000   \n",
       "mean                34.472398       31.731468              1194.746220   \n",
       "std                140.749294       44.475503              1913.669288   \n",
       "min                  0.000000        0.000000                 0.000000   \n",
       "25%                  0.000000        7.000000               184.137500   \n",
       "50%                  0.000000       18.000000               598.936905   \n",
       "75%                  0.000000       38.000000              1464.157214   \n",
       "max               2549.375000      705.000000             63973.522230   \n",
       "\n",
       "        BounceRates     ExitRates    PageValues    SpecialDay  \\\n",
       "count  12330.000000  12330.000000  12330.000000  12330.000000   \n",
       "mean       0.022191      0.043073      5.889258      0.061427   \n",
       "std        0.048488      0.048597     18.568437      0.198917   \n",
       "min        0.000000      0.000000      0.000000      0.000000   \n",
       "25%        0.000000      0.014286      0.000000      0.000000   \n",
       "50%        0.003112      0.025156      0.000000      0.000000   \n",
       "75%        0.016813      0.050000      0.000000      0.000000   \n",
       "max        0.200000      0.200000    361.763742      1.000000   \n",
       "\n",
       "       OperatingSystems       Browser        Region   TrafficType  \n",
       "count      12330.000000  12330.000000  12330.000000  12330.000000  \n",
       "mean           2.124006      2.357097      3.147364      4.069586  \n",
       "std            0.911325      1.717277      2.401591      4.025169  \n",
       "min            1.000000      1.000000      1.000000      1.000000  \n",
       "25%            2.000000      2.000000      1.000000      2.000000  \n",
       "50%            2.000000      2.000000      3.000000      2.000000  \n",
       "75%            3.000000      2.000000      4.000000      4.000000  \n",
       "max            8.000000     13.000000      9.000000     20.000000  "
      ]
     },
     "execution_count": 4,
     "metadata": {},
     "output_type": "execute_result"
    }
   ],
   "source": [
    "df.describe()"
   ]
  },
  {
   "cell_type": "markdown",
   "id": "7dfad1d0",
   "metadata": {
    "id": "qcnqnmxBNYqU",
    "papermill": {
     "duration": 0.022285,
     "end_time": "2022-07-04T15:22:42.705043",
     "exception": false,
     "start_time": "2022-07-04T15:22:42.682758",
     "status": "completed"
    },
    "tags": []
   },
   "source": [
    "#### converting boolean values to 0 and 1"
   ]
  },
  {
   "cell_type": "code",
   "execution_count": 5,
   "id": "c2154f9c",
   "metadata": {
    "execution": {
     "iopub.execute_input": "2022-07-04T15:22:42.750895Z",
     "iopub.status.busy": "2022-07-04T15:22:42.750368Z",
     "iopub.status.idle": "2022-07-04T15:22:42.778728Z",
     "shell.execute_reply": "2022-07-04T15:22:42.777008Z"
    },
    "executionInfo": {
     "elapsed": 32,
     "status": "ok",
     "timestamp": 1656946735121,
     "user": {
      "displayName": "Lakshit Jain",
      "userId": "03169305328764918919"
     },
     "user_tz": -330
    },
    "id": "3K2dV1hjMFQ3",
    "outputId": "55b6e594-d062-426e-a0e7-d37664a2dc39",
    "papermill": {
     "duration": 0.055955,
     "end_time": "2022-07-04T15:22:42.781812",
     "exception": false,
     "start_time": "2022-07-04T15:22:42.725857",
     "status": "completed"
    },
    "tags": []
   },
   "outputs": [
    {
     "name": "stdout",
     "output_type": "stream",
     "text": [
      "<class 'pandas.core.frame.DataFrame'>\n",
      "RangeIndex: 12330 entries, 0 to 12329\n",
      "Data columns (total 18 columns):\n",
      " #   Column                   Non-Null Count  Dtype  \n",
      "---  ------                   --------------  -----  \n",
      " 0   Administrative           12330 non-null  int64  \n",
      " 1   Administrative_Duration  12330 non-null  float64\n",
      " 2   Informational            12330 non-null  int64  \n",
      " 3   Informational_Duration   12330 non-null  float64\n",
      " 4   ProductRelated           12330 non-null  int64  \n",
      " 5   ProductRelated_Duration  12330 non-null  float64\n",
      " 6   BounceRates              12330 non-null  float64\n",
      " 7   ExitRates                12330 non-null  float64\n",
      " 8   PageValues               12330 non-null  float64\n",
      " 9   SpecialDay               12330 non-null  float64\n",
      " 10  Month                    12330 non-null  object \n",
      " 11  OperatingSystems         12330 non-null  int64  \n",
      " 12  Browser                  12330 non-null  int64  \n",
      " 13  Region                   12330 non-null  int64  \n",
      " 14  TrafficType              12330 non-null  int64  \n",
      " 15  VisitorType              12330 non-null  object \n",
      " 16  Weekend                  12330 non-null  int64  \n",
      " 17  Revenue                  12330 non-null  int64  \n",
      "dtypes: float64(7), int64(9), object(2)\n",
      "memory usage: 1.7+ MB\n"
     ]
    }
   ],
   "source": [
    "df[[\"Weekend\",\"Revenue\"]] = df[[\"Weekend\",\"Revenue\"]].astype(int)\n",
    "df.info()\n"
   ]
  },
  {
   "cell_type": "code",
   "execution_count": 6,
   "id": "b37c44e0",
   "metadata": {
    "execution": {
     "iopub.execute_input": "2022-07-04T15:22:42.825749Z",
     "iopub.status.busy": "2022-07-04T15:22:42.825262Z",
     "iopub.status.idle": "2022-07-04T15:22:42.850081Z",
     "shell.execute_reply": "2022-07-04T15:22:42.848544Z"
    },
    "executionInfo": {
     "elapsed": 29,
     "status": "ok",
     "timestamp": 1656946735121,
     "user": {
      "displayName": "Lakshit Jain",
      "userId": "03169305328764918919"
     },
     "user_tz": -330
    },
    "id": "TtFTJ2amMzpK",
    "outputId": "a452e553-07be-4671-a2ac-bc802ac843fb",
    "papermill": {
     "duration": 0.050965,
     "end_time": "2022-07-04T15:22:42.853302",
     "exception": false,
     "start_time": "2022-07-04T15:22:42.802337",
     "status": "completed"
    },
    "tags": []
   },
   "outputs": [
    {
     "data": {
      "text/html": [
       "<div>\n",
       "<style scoped>\n",
       "    .dataframe tbody tr th:only-of-type {\n",
       "        vertical-align: middle;\n",
       "    }\n",
       "\n",
       "    .dataframe tbody tr th {\n",
       "        vertical-align: top;\n",
       "    }\n",
       "\n",
       "    .dataframe thead th {\n",
       "        text-align: right;\n",
       "    }\n",
       "</style>\n",
       "<table border=\"1\" class=\"dataframe\">\n",
       "  <thead>\n",
       "    <tr style=\"text-align: right;\">\n",
       "      <th></th>\n",
       "      <th>Administrative</th>\n",
       "      <th>Administrative_Duration</th>\n",
       "      <th>Informational</th>\n",
       "      <th>Informational_Duration</th>\n",
       "      <th>ProductRelated</th>\n",
       "      <th>ProductRelated_Duration</th>\n",
       "      <th>BounceRates</th>\n",
       "      <th>ExitRates</th>\n",
       "      <th>PageValues</th>\n",
       "      <th>SpecialDay</th>\n",
       "      <th>Month</th>\n",
       "      <th>OperatingSystems</th>\n",
       "      <th>Browser</th>\n",
       "      <th>Region</th>\n",
       "      <th>TrafficType</th>\n",
       "      <th>VisitorType</th>\n",
       "      <th>Weekend</th>\n",
       "      <th>Revenue</th>\n",
       "    </tr>\n",
       "  </thead>\n",
       "  <tbody>\n",
       "    <tr>\n",
       "      <th>0</th>\n",
       "      <td>0</td>\n",
       "      <td>0.0</td>\n",
       "      <td>0</td>\n",
       "      <td>0.0</td>\n",
       "      <td>1</td>\n",
       "      <td>0.000000</td>\n",
       "      <td>0.20</td>\n",
       "      <td>0.20</td>\n",
       "      <td>0.0</td>\n",
       "      <td>0.0</td>\n",
       "      <td>Feb</td>\n",
       "      <td>1</td>\n",
       "      <td>1</td>\n",
       "      <td>1</td>\n",
       "      <td>1</td>\n",
       "      <td>Returning_Visitor</td>\n",
       "      <td>0</td>\n",
       "      <td>0</td>\n",
       "    </tr>\n",
       "    <tr>\n",
       "      <th>1</th>\n",
       "      <td>0</td>\n",
       "      <td>0.0</td>\n",
       "      <td>0</td>\n",
       "      <td>0.0</td>\n",
       "      <td>2</td>\n",
       "      <td>64.000000</td>\n",
       "      <td>0.00</td>\n",
       "      <td>0.10</td>\n",
       "      <td>0.0</td>\n",
       "      <td>0.0</td>\n",
       "      <td>Feb</td>\n",
       "      <td>2</td>\n",
       "      <td>2</td>\n",
       "      <td>1</td>\n",
       "      <td>2</td>\n",
       "      <td>Returning_Visitor</td>\n",
       "      <td>0</td>\n",
       "      <td>0</td>\n",
       "    </tr>\n",
       "    <tr>\n",
       "      <th>2</th>\n",
       "      <td>0</td>\n",
       "      <td>0.0</td>\n",
       "      <td>0</td>\n",
       "      <td>0.0</td>\n",
       "      <td>1</td>\n",
       "      <td>0.000000</td>\n",
       "      <td>0.20</td>\n",
       "      <td>0.20</td>\n",
       "      <td>0.0</td>\n",
       "      <td>0.0</td>\n",
       "      <td>Feb</td>\n",
       "      <td>4</td>\n",
       "      <td>1</td>\n",
       "      <td>9</td>\n",
       "      <td>3</td>\n",
       "      <td>Returning_Visitor</td>\n",
       "      <td>0</td>\n",
       "      <td>0</td>\n",
       "    </tr>\n",
       "    <tr>\n",
       "      <th>3</th>\n",
       "      <td>0</td>\n",
       "      <td>0.0</td>\n",
       "      <td>0</td>\n",
       "      <td>0.0</td>\n",
       "      <td>2</td>\n",
       "      <td>2.666667</td>\n",
       "      <td>0.05</td>\n",
       "      <td>0.14</td>\n",
       "      <td>0.0</td>\n",
       "      <td>0.0</td>\n",
       "      <td>Feb</td>\n",
       "      <td>3</td>\n",
       "      <td>2</td>\n",
       "      <td>2</td>\n",
       "      <td>4</td>\n",
       "      <td>Returning_Visitor</td>\n",
       "      <td>0</td>\n",
       "      <td>0</td>\n",
       "    </tr>\n",
       "    <tr>\n",
       "      <th>4</th>\n",
       "      <td>0</td>\n",
       "      <td>0.0</td>\n",
       "      <td>0</td>\n",
       "      <td>0.0</td>\n",
       "      <td>10</td>\n",
       "      <td>627.500000</td>\n",
       "      <td>0.02</td>\n",
       "      <td>0.05</td>\n",
       "      <td>0.0</td>\n",
       "      <td>0.0</td>\n",
       "      <td>Feb</td>\n",
       "      <td>3</td>\n",
       "      <td>3</td>\n",
       "      <td>1</td>\n",
       "      <td>4</td>\n",
       "      <td>Returning_Visitor</td>\n",
       "      <td>1</td>\n",
       "      <td>0</td>\n",
       "    </tr>\n",
       "  </tbody>\n",
       "</table>\n",
       "</div>"
      ],
      "text/plain": [
       "   Administrative  Administrative_Duration  Informational  \\\n",
       "0               0                      0.0              0   \n",
       "1               0                      0.0              0   \n",
       "2               0                      0.0              0   \n",
       "3               0                      0.0              0   \n",
       "4               0                      0.0              0   \n",
       "\n",
       "   Informational_Duration  ProductRelated  ProductRelated_Duration  \\\n",
       "0                     0.0               1                 0.000000   \n",
       "1                     0.0               2                64.000000   \n",
       "2                     0.0               1                 0.000000   \n",
       "3                     0.0               2                 2.666667   \n",
       "4                     0.0              10               627.500000   \n",
       "\n",
       "   BounceRates  ExitRates  PageValues  SpecialDay Month  OperatingSystems  \\\n",
       "0         0.20       0.20         0.0         0.0   Feb                 1   \n",
       "1         0.00       0.10         0.0         0.0   Feb                 2   \n",
       "2         0.20       0.20         0.0         0.0   Feb                 4   \n",
       "3         0.05       0.14         0.0         0.0   Feb                 3   \n",
       "4         0.02       0.05         0.0         0.0   Feb                 3   \n",
       "\n",
       "   Browser  Region  TrafficType        VisitorType  Weekend  Revenue  \n",
       "0        1       1            1  Returning_Visitor        0        0  \n",
       "1        2       1            2  Returning_Visitor        0        0  \n",
       "2        1       9            3  Returning_Visitor        0        0  \n",
       "3        2       2            4  Returning_Visitor        0        0  \n",
       "4        3       1            4  Returning_Visitor        1        0  "
      ]
     },
     "execution_count": 6,
     "metadata": {},
     "output_type": "execute_result"
    }
   ],
   "source": [
    "df.head()"
   ]
  },
  {
   "cell_type": "markdown",
   "id": "fea15fb0",
   "metadata": {
    "id": "r0jWgxmeNehG",
    "papermill": {
     "duration": 0.020415,
     "end_time": "2022-07-04T15:22:42.895084",
     "exception": false,
     "start_time": "2022-07-04T15:22:42.874669",
     "status": "completed"
    },
    "tags": []
   },
   "source": [
    "**Converting Categorical values to labels**"
   ]
  },
  {
   "cell_type": "code",
   "execution_count": 7,
   "id": "8284c5b2",
   "metadata": {
    "execution": {
     "iopub.execute_input": "2022-07-04T15:22:42.946196Z",
     "iopub.status.busy": "2022-07-04T15:22:42.945191Z",
     "iopub.status.idle": "2022-07-04T15:22:42.955931Z",
     "shell.execute_reply": "2022-07-04T15:22:42.954537Z"
    },
    "executionInfo": {
     "elapsed": 29,
     "status": "ok",
     "timestamp": 1656946735122,
     "user": {
      "displayName": "Lakshit Jain",
      "userId": "03169305328764918919"
     },
     "user_tz": -330
    },
    "id": "yjP5S3bgM12p",
    "papermill": {
     "duration": 0.04211,
     "end_time": "2022-07-04T15:22:42.959832",
     "exception": false,
     "start_time": "2022-07-04T15:22:42.917722",
     "status": "completed"
    },
    "tags": []
   },
   "outputs": [],
   "source": [
    "df1 = df.copy()"
   ]
  },
  {
   "cell_type": "code",
   "execution_count": 8,
   "id": "74418c24",
   "metadata": {
    "execution": {
     "iopub.execute_input": "2022-07-04T15:22:43.022592Z",
     "iopub.status.busy": "2022-07-04T15:22:43.021587Z",
     "iopub.status.idle": "2022-07-04T15:22:43.038793Z",
     "shell.execute_reply": "2022-07-04T15:22:43.036041Z"
    },
    "executionInfo": {
     "elapsed": 28,
     "status": "ok",
     "timestamp": 1656946735122,
     "user": {
      "displayName": "Lakshit Jain",
      "userId": "03169305328764918919"
     },
     "user_tz": -330
    },
    "id": "8Pzn0PzMQITa",
    "outputId": "0d721c78-1141-492b-bdfe-b12de3d09f23",
    "papermill": {
     "duration": 0.050985,
     "end_time": "2022-07-04T15:22:43.043726",
     "exception": false,
     "start_time": "2022-07-04T15:22:42.992741",
     "status": "completed"
    },
    "tags": []
   },
   "outputs": [
    {
     "data": {
      "text/plain": [
       "array(['Returning_Visitor', 'New_Visitor', 'Other'], dtype=object)"
      ]
     },
     "execution_count": 8,
     "metadata": {},
     "output_type": "execute_result"
    }
   ],
   "source": [
    "df1[\"VisitorType\"].unique()"
   ]
  },
  {
   "cell_type": "code",
   "execution_count": 9,
   "id": "4d4e5fca",
   "metadata": {
    "execution": {
     "iopub.execute_input": "2022-07-04T15:22:43.092011Z",
     "iopub.status.busy": "2022-07-04T15:22:43.091201Z",
     "iopub.status.idle": "2022-07-04T15:22:43.301183Z",
     "shell.execute_reply": "2022-07-04T15:22:43.299698Z"
    },
    "executionInfo": {
     "elapsed": 24,
     "status": "ok",
     "timestamp": 1656946735123,
     "user": {
      "displayName": "Lakshit Jain",
      "userId": "03169305328764918919"
     },
     "user_tz": -330
    },
    "id": "ISLZ3vwnM9ge",
    "papermill": {
     "duration": 0.238652,
     "end_time": "2022-07-04T15:22:43.304648",
     "exception": false,
     "start_time": "2022-07-04T15:22:43.065996",
     "status": "completed"
    },
    "tags": []
   },
   "outputs": [],
   "source": [
    "from sklearn.preprocessing import LabelEncoder"
   ]
  },
  {
   "cell_type": "code",
   "execution_count": 10,
   "id": "ed38e251",
   "metadata": {
    "execution": {
     "iopub.execute_input": "2022-07-04T15:22:43.349709Z",
     "iopub.status.busy": "2022-07-04T15:22:43.349167Z",
     "iopub.status.idle": "2022-07-04T15:22:43.362609Z",
     "shell.execute_reply": "2022-07-04T15:22:43.361203Z"
    },
    "executionInfo": {
     "elapsed": 23,
     "status": "ok",
     "timestamp": 1656946735123,
     "user": {
      "displayName": "Lakshit Jain",
      "userId": "03169305328764918919"
     },
     "user_tz": -330
    },
    "id": "Uf6xvWkdPgpd",
    "papermill": {
     "duration": 0.039616,
     "end_time": "2022-07-04T15:22:43.365984",
     "exception": false,
     "start_time": "2022-07-04T15:22:43.326368",
     "status": "completed"
    },
    "tags": []
   },
   "outputs": [],
   "source": [
    "le = LabelEncoder()\n",
    "df1[\"Moth_encoded\"] = le.fit_transform(df1[\"Month\"])"
   ]
  },
  {
   "cell_type": "code",
   "execution_count": 11,
   "id": "2d7caa84",
   "metadata": {
    "execution": {
     "iopub.execute_input": "2022-07-04T15:22:43.411247Z",
     "iopub.status.busy": "2022-07-04T15:22:43.410285Z",
     "iopub.status.idle": "2022-07-04T15:22:43.416270Z",
     "shell.execute_reply": "2022-07-04T15:22:43.414617Z"
    },
    "executionInfo": {
     "elapsed": 24,
     "status": "ok",
     "timestamp": 1656946735124,
     "user": {
      "displayName": "Lakshit Jain",
      "userId": "03169305328764918919"
     },
     "user_tz": -330
    },
    "id": "lqNvsnhMPw68",
    "papermill": {
     "duration": 0.032174,
     "end_time": "2022-07-04T15:22:43.419411",
     "exception": false,
     "start_time": "2022-07-04T15:22:43.387237",
     "status": "completed"
    },
    "tags": []
   },
   "outputs": [],
   "source": [
    "month_encodings = le.classes_"
   ]
  },
  {
   "cell_type": "code",
   "execution_count": 12,
   "id": "463473c3",
   "metadata": {
    "execution": {
     "iopub.execute_input": "2022-07-04T15:22:43.462222Z",
     "iopub.status.busy": "2022-07-04T15:22:43.461767Z",
     "iopub.status.idle": "2022-07-04T15:22:43.472885Z",
     "shell.execute_reply": "2022-07-04T15:22:43.471846Z"
    },
    "executionInfo": {
     "elapsed": 25,
     "status": "ok",
     "timestamp": 1656946735125,
     "user": {
      "displayName": "Lakshit Jain",
      "userId": "03169305328764918919"
     },
     "user_tz": -330
    },
    "id": "BUg8DUkuP98X",
    "papermill": {
     "duration": 0.035595,
     "end_time": "2022-07-04T15:22:43.475486",
     "exception": false,
     "start_time": "2022-07-04T15:22:43.439891",
     "status": "completed"
    },
    "tags": []
   },
   "outputs": [],
   "source": [
    "le = LabelEncoder()\n",
    "df1[\"VisitorType_encoded\"] = le.fit_transform(df1[\"VisitorType\"])\n",
    "visitor_type_encodings = le.classes_"
   ]
  },
  {
   "cell_type": "code",
   "execution_count": 13,
   "id": "9ec887fc",
   "metadata": {
    "execution": {
     "iopub.execute_input": "2022-07-04T15:22:43.518799Z",
     "iopub.status.busy": "2022-07-04T15:22:43.518345Z",
     "iopub.status.idle": "2022-07-04T15:22:43.525404Z",
     "shell.execute_reply": "2022-07-04T15:22:43.524180Z"
    },
    "executionInfo": {
     "elapsed": 25,
     "status": "ok",
     "timestamp": 1656946735126,
     "user": {
      "displayName": "Lakshit Jain",
      "userId": "03169305328764918919"
     },
     "user_tz": -330
    },
    "id": "VCySbkGmQaO7",
    "outputId": "f6c412a9-f3ac-4325-9307-28093e240c3b",
    "papermill": {
     "duration": 0.031317,
     "end_time": "2022-07-04T15:22:43.527794",
     "exception": false,
     "start_time": "2022-07-04T15:22:43.496477",
     "status": "completed"
    },
    "tags": []
   },
   "outputs": [
    {
     "data": {
      "text/plain": [
       "(array(['Aug', 'Dec', 'Feb', 'Jul', 'June', 'Mar', 'May', 'Nov', 'Oct',\n",
       "        'Sep'], dtype=object),\n",
       " array(['New_Visitor', 'Other', 'Returning_Visitor'], dtype=object))"
      ]
     },
     "execution_count": 13,
     "metadata": {},
     "output_type": "execute_result"
    }
   ],
   "source": [
    "month_encodings,visitor_type_encodings"
   ]
  },
  {
   "cell_type": "code",
   "execution_count": 14,
   "id": "644f2c8c",
   "metadata": {
    "execution": {
     "iopub.execute_input": "2022-07-04T15:22:43.570320Z",
     "iopub.status.busy": "2022-07-04T15:22:43.569866Z",
     "iopub.status.idle": "2022-07-04T15:22:43.607554Z",
     "shell.execute_reply": "2022-07-04T15:22:43.606479Z"
    },
    "executionInfo": {
     "elapsed": 23,
     "status": "ok",
     "timestamp": 1656946735127,
     "user": {
      "displayName": "Lakshit Jain",
      "userId": "03169305328764918919"
     },
     "user_tz": -330
    },
    "id": "USAKY8d8QSiK",
    "outputId": "b64ebb50-9720-4a80-a9ff-46865d79f3eb",
    "papermill": {
     "duration": 0.062244,
     "end_time": "2022-07-04T15:22:43.610237",
     "exception": false,
     "start_time": "2022-07-04T15:22:43.547993",
     "status": "completed"
    },
    "tags": []
   },
   "outputs": [
    {
     "data": {
      "text/html": [
       "<div>\n",
       "<style scoped>\n",
       "    .dataframe tbody tr th:only-of-type {\n",
       "        vertical-align: middle;\n",
       "    }\n",
       "\n",
       "    .dataframe tbody tr th {\n",
       "        vertical-align: top;\n",
       "    }\n",
       "\n",
       "    .dataframe thead th {\n",
       "        text-align: right;\n",
       "    }\n",
       "</style>\n",
       "<table border=\"1\" class=\"dataframe\">\n",
       "  <thead>\n",
       "    <tr style=\"text-align: right;\">\n",
       "      <th></th>\n",
       "      <th>Administrative</th>\n",
       "      <th>Administrative_Duration</th>\n",
       "      <th>Informational</th>\n",
       "      <th>Informational_Duration</th>\n",
       "      <th>ProductRelated</th>\n",
       "      <th>ProductRelated_Duration</th>\n",
       "      <th>BounceRates</th>\n",
       "      <th>ExitRates</th>\n",
       "      <th>PageValues</th>\n",
       "      <th>SpecialDay</th>\n",
       "      <th>Month</th>\n",
       "      <th>OperatingSystems</th>\n",
       "      <th>Browser</th>\n",
       "      <th>Region</th>\n",
       "      <th>TrafficType</th>\n",
       "      <th>VisitorType</th>\n",
       "      <th>Weekend</th>\n",
       "      <th>Revenue</th>\n",
       "      <th>Moth_encoded</th>\n",
       "      <th>VisitorType_encoded</th>\n",
       "    </tr>\n",
       "  </thead>\n",
       "  <tbody>\n",
       "    <tr>\n",
       "      <th>0</th>\n",
       "      <td>0</td>\n",
       "      <td>0.0</td>\n",
       "      <td>0</td>\n",
       "      <td>0.0</td>\n",
       "      <td>1</td>\n",
       "      <td>0.000000</td>\n",
       "      <td>0.200000</td>\n",
       "      <td>0.200000</td>\n",
       "      <td>0.000000</td>\n",
       "      <td>0.0</td>\n",
       "      <td>Feb</td>\n",
       "      <td>1</td>\n",
       "      <td>1</td>\n",
       "      <td>1</td>\n",
       "      <td>1</td>\n",
       "      <td>Returning_Visitor</td>\n",
       "      <td>0</td>\n",
       "      <td>0</td>\n",
       "      <td>2</td>\n",
       "      <td>2</td>\n",
       "    </tr>\n",
       "    <tr>\n",
       "      <th>1</th>\n",
       "      <td>0</td>\n",
       "      <td>0.0</td>\n",
       "      <td>0</td>\n",
       "      <td>0.0</td>\n",
       "      <td>2</td>\n",
       "      <td>64.000000</td>\n",
       "      <td>0.000000</td>\n",
       "      <td>0.100000</td>\n",
       "      <td>0.000000</td>\n",
       "      <td>0.0</td>\n",
       "      <td>Feb</td>\n",
       "      <td>2</td>\n",
       "      <td>2</td>\n",
       "      <td>1</td>\n",
       "      <td>2</td>\n",
       "      <td>Returning_Visitor</td>\n",
       "      <td>0</td>\n",
       "      <td>0</td>\n",
       "      <td>2</td>\n",
       "      <td>2</td>\n",
       "    </tr>\n",
       "    <tr>\n",
       "      <th>2</th>\n",
       "      <td>0</td>\n",
       "      <td>0.0</td>\n",
       "      <td>0</td>\n",
       "      <td>0.0</td>\n",
       "      <td>1</td>\n",
       "      <td>0.000000</td>\n",
       "      <td>0.200000</td>\n",
       "      <td>0.200000</td>\n",
       "      <td>0.000000</td>\n",
       "      <td>0.0</td>\n",
       "      <td>Feb</td>\n",
       "      <td>4</td>\n",
       "      <td>1</td>\n",
       "      <td>9</td>\n",
       "      <td>3</td>\n",
       "      <td>Returning_Visitor</td>\n",
       "      <td>0</td>\n",
       "      <td>0</td>\n",
       "      <td>2</td>\n",
       "      <td>2</td>\n",
       "    </tr>\n",
       "    <tr>\n",
       "      <th>3</th>\n",
       "      <td>0</td>\n",
       "      <td>0.0</td>\n",
       "      <td>0</td>\n",
       "      <td>0.0</td>\n",
       "      <td>2</td>\n",
       "      <td>2.666667</td>\n",
       "      <td>0.050000</td>\n",
       "      <td>0.140000</td>\n",
       "      <td>0.000000</td>\n",
       "      <td>0.0</td>\n",
       "      <td>Feb</td>\n",
       "      <td>3</td>\n",
       "      <td>2</td>\n",
       "      <td>2</td>\n",
       "      <td>4</td>\n",
       "      <td>Returning_Visitor</td>\n",
       "      <td>0</td>\n",
       "      <td>0</td>\n",
       "      <td>2</td>\n",
       "      <td>2</td>\n",
       "    </tr>\n",
       "    <tr>\n",
       "      <th>4</th>\n",
       "      <td>0</td>\n",
       "      <td>0.0</td>\n",
       "      <td>0</td>\n",
       "      <td>0.0</td>\n",
       "      <td>10</td>\n",
       "      <td>627.500000</td>\n",
       "      <td>0.020000</td>\n",
       "      <td>0.050000</td>\n",
       "      <td>0.000000</td>\n",
       "      <td>0.0</td>\n",
       "      <td>Feb</td>\n",
       "      <td>3</td>\n",
       "      <td>3</td>\n",
       "      <td>1</td>\n",
       "      <td>4</td>\n",
       "      <td>Returning_Visitor</td>\n",
       "      <td>1</td>\n",
       "      <td>0</td>\n",
       "      <td>2</td>\n",
       "      <td>2</td>\n",
       "    </tr>\n",
       "    <tr>\n",
       "      <th>...</th>\n",
       "      <td>...</td>\n",
       "      <td>...</td>\n",
       "      <td>...</td>\n",
       "      <td>...</td>\n",
       "      <td>...</td>\n",
       "      <td>...</td>\n",
       "      <td>...</td>\n",
       "      <td>...</td>\n",
       "      <td>...</td>\n",
       "      <td>...</td>\n",
       "      <td>...</td>\n",
       "      <td>...</td>\n",
       "      <td>...</td>\n",
       "      <td>...</td>\n",
       "      <td>...</td>\n",
       "      <td>...</td>\n",
       "      <td>...</td>\n",
       "      <td>...</td>\n",
       "      <td>...</td>\n",
       "      <td>...</td>\n",
       "    </tr>\n",
       "    <tr>\n",
       "      <th>12325</th>\n",
       "      <td>3</td>\n",
       "      <td>145.0</td>\n",
       "      <td>0</td>\n",
       "      <td>0.0</td>\n",
       "      <td>53</td>\n",
       "      <td>1783.791667</td>\n",
       "      <td>0.007143</td>\n",
       "      <td>0.029031</td>\n",
       "      <td>12.241717</td>\n",
       "      <td>0.0</td>\n",
       "      <td>Dec</td>\n",
       "      <td>4</td>\n",
       "      <td>6</td>\n",
       "      <td>1</td>\n",
       "      <td>1</td>\n",
       "      <td>Returning_Visitor</td>\n",
       "      <td>1</td>\n",
       "      <td>0</td>\n",
       "      <td>1</td>\n",
       "      <td>2</td>\n",
       "    </tr>\n",
       "    <tr>\n",
       "      <th>12326</th>\n",
       "      <td>0</td>\n",
       "      <td>0.0</td>\n",
       "      <td>0</td>\n",
       "      <td>0.0</td>\n",
       "      <td>5</td>\n",
       "      <td>465.750000</td>\n",
       "      <td>0.000000</td>\n",
       "      <td>0.021333</td>\n",
       "      <td>0.000000</td>\n",
       "      <td>0.0</td>\n",
       "      <td>Nov</td>\n",
       "      <td>3</td>\n",
       "      <td>2</td>\n",
       "      <td>1</td>\n",
       "      <td>8</td>\n",
       "      <td>Returning_Visitor</td>\n",
       "      <td>1</td>\n",
       "      <td>0</td>\n",
       "      <td>7</td>\n",
       "      <td>2</td>\n",
       "    </tr>\n",
       "    <tr>\n",
       "      <th>12327</th>\n",
       "      <td>0</td>\n",
       "      <td>0.0</td>\n",
       "      <td>0</td>\n",
       "      <td>0.0</td>\n",
       "      <td>6</td>\n",
       "      <td>184.250000</td>\n",
       "      <td>0.083333</td>\n",
       "      <td>0.086667</td>\n",
       "      <td>0.000000</td>\n",
       "      <td>0.0</td>\n",
       "      <td>Nov</td>\n",
       "      <td>3</td>\n",
       "      <td>2</td>\n",
       "      <td>1</td>\n",
       "      <td>13</td>\n",
       "      <td>Returning_Visitor</td>\n",
       "      <td>1</td>\n",
       "      <td>0</td>\n",
       "      <td>7</td>\n",
       "      <td>2</td>\n",
       "    </tr>\n",
       "    <tr>\n",
       "      <th>12328</th>\n",
       "      <td>4</td>\n",
       "      <td>75.0</td>\n",
       "      <td>0</td>\n",
       "      <td>0.0</td>\n",
       "      <td>15</td>\n",
       "      <td>346.000000</td>\n",
       "      <td>0.000000</td>\n",
       "      <td>0.021053</td>\n",
       "      <td>0.000000</td>\n",
       "      <td>0.0</td>\n",
       "      <td>Nov</td>\n",
       "      <td>2</td>\n",
       "      <td>2</td>\n",
       "      <td>3</td>\n",
       "      <td>11</td>\n",
       "      <td>Returning_Visitor</td>\n",
       "      <td>0</td>\n",
       "      <td>0</td>\n",
       "      <td>7</td>\n",
       "      <td>2</td>\n",
       "    </tr>\n",
       "    <tr>\n",
       "      <th>12329</th>\n",
       "      <td>0</td>\n",
       "      <td>0.0</td>\n",
       "      <td>0</td>\n",
       "      <td>0.0</td>\n",
       "      <td>3</td>\n",
       "      <td>21.250000</td>\n",
       "      <td>0.000000</td>\n",
       "      <td>0.066667</td>\n",
       "      <td>0.000000</td>\n",
       "      <td>0.0</td>\n",
       "      <td>Nov</td>\n",
       "      <td>3</td>\n",
       "      <td>2</td>\n",
       "      <td>1</td>\n",
       "      <td>2</td>\n",
       "      <td>New_Visitor</td>\n",
       "      <td>1</td>\n",
       "      <td>0</td>\n",
       "      <td>7</td>\n",
       "      <td>0</td>\n",
       "    </tr>\n",
       "  </tbody>\n",
       "</table>\n",
       "<p>12330 rows × 20 columns</p>\n",
       "</div>"
      ],
      "text/plain": [
       "       Administrative  Administrative_Duration  Informational  \\\n",
       "0                   0                      0.0              0   \n",
       "1                   0                      0.0              0   \n",
       "2                   0                      0.0              0   \n",
       "3                   0                      0.0              0   \n",
       "4                   0                      0.0              0   \n",
       "...               ...                      ...            ...   \n",
       "12325               3                    145.0              0   \n",
       "12326               0                      0.0              0   \n",
       "12327               0                      0.0              0   \n",
       "12328               4                     75.0              0   \n",
       "12329               0                      0.0              0   \n",
       "\n",
       "       Informational_Duration  ProductRelated  ProductRelated_Duration  \\\n",
       "0                         0.0               1                 0.000000   \n",
       "1                         0.0               2                64.000000   \n",
       "2                         0.0               1                 0.000000   \n",
       "3                         0.0               2                 2.666667   \n",
       "4                         0.0              10               627.500000   \n",
       "...                       ...             ...                      ...   \n",
       "12325                     0.0              53              1783.791667   \n",
       "12326                     0.0               5               465.750000   \n",
       "12327                     0.0               6               184.250000   \n",
       "12328                     0.0              15               346.000000   \n",
       "12329                     0.0               3                21.250000   \n",
       "\n",
       "       BounceRates  ExitRates  PageValues  SpecialDay Month  OperatingSystems  \\\n",
       "0         0.200000   0.200000    0.000000         0.0   Feb                 1   \n",
       "1         0.000000   0.100000    0.000000         0.0   Feb                 2   \n",
       "2         0.200000   0.200000    0.000000         0.0   Feb                 4   \n",
       "3         0.050000   0.140000    0.000000         0.0   Feb                 3   \n",
       "4         0.020000   0.050000    0.000000         0.0   Feb                 3   \n",
       "...            ...        ...         ...         ...   ...               ...   \n",
       "12325     0.007143   0.029031   12.241717         0.0   Dec                 4   \n",
       "12326     0.000000   0.021333    0.000000         0.0   Nov                 3   \n",
       "12327     0.083333   0.086667    0.000000         0.0   Nov                 3   \n",
       "12328     0.000000   0.021053    0.000000         0.0   Nov                 2   \n",
       "12329     0.000000   0.066667    0.000000         0.0   Nov                 3   \n",
       "\n",
       "       Browser  Region  TrafficType        VisitorType  Weekend  Revenue  \\\n",
       "0            1       1            1  Returning_Visitor        0        0   \n",
       "1            2       1            2  Returning_Visitor        0        0   \n",
       "2            1       9            3  Returning_Visitor        0        0   \n",
       "3            2       2            4  Returning_Visitor        0        0   \n",
       "4            3       1            4  Returning_Visitor        1        0   \n",
       "...        ...     ...          ...                ...      ...      ...   \n",
       "12325        6       1            1  Returning_Visitor        1        0   \n",
       "12326        2       1            8  Returning_Visitor        1        0   \n",
       "12327        2       1           13  Returning_Visitor        1        0   \n",
       "12328        2       3           11  Returning_Visitor        0        0   \n",
       "12329        2       1            2        New_Visitor        1        0   \n",
       "\n",
       "       Moth_encoded  VisitorType_encoded  \n",
       "0                 2                    2  \n",
       "1                 2                    2  \n",
       "2                 2                    2  \n",
       "3                 2                    2  \n",
       "4                 2                    2  \n",
       "...             ...                  ...  \n",
       "12325             1                    2  \n",
       "12326             7                    2  \n",
       "12327             7                    2  \n",
       "12328             7                    2  \n",
       "12329             7                    0  \n",
       "\n",
       "[12330 rows x 20 columns]"
      ]
     },
     "execution_count": 14,
     "metadata": {},
     "output_type": "execute_result"
    }
   ],
   "source": [
    "df1"
   ]
  },
  {
   "cell_type": "markdown",
   "id": "11234275",
   "metadata": {
    "id": "uYcP4NdVQlqe",
    "papermill": {
     "duration": 0.021139,
     "end_time": "2022-07-04T15:22:43.653575",
     "exception": false,
     "start_time": "2022-07-04T15:22:43.632436",
     "status": "completed"
    },
    "tags": []
   },
   "source": [
    "#### EDA"
   ]
  },
  {
   "cell_type": "code",
   "execution_count": 15,
   "id": "9c094ea1",
   "metadata": {
    "execution": {
     "iopub.execute_input": "2022-07-04T15:22:43.698088Z",
     "iopub.status.busy": "2022-07-04T15:22:43.697113Z",
     "iopub.status.idle": "2022-07-04T15:22:44.181153Z",
     "shell.execute_reply": "2022-07-04T15:22:44.179389Z"
    },
    "executionInfo": {
     "elapsed": 547,
     "status": "ok",
     "timestamp": 1656946735653,
     "user": {
      "displayName": "Lakshit Jain",
      "userId": "03169305328764918919"
     },
     "user_tz": -330
    },
    "id": "F-UovW_ZQS4v",
    "outputId": "38d0fdb3-e23c-4edd-b46b-a29826cb808a",
    "papermill": {
     "duration": 0.510165,
     "end_time": "2022-07-04T15:22:44.184791",
     "exception": false,
     "start_time": "2022-07-04T15:22:43.674626",
     "status": "completed"
    },
    "tags": []
   },
   "outputs": [
    {
     "name": "stderr",
     "output_type": "stream",
     "text": [
      "/opt/conda/lib/python3.7/site-packages/seaborn/distributions.py:2619: FutureWarning: `distplot` is a deprecated function and will be removed in a future version. Please adapt your code to use either `displot` (a figure-level function with similar flexibility) or `histplot` (an axes-level function for histograms).\n",
      "  warnings.warn(msg, FutureWarning)\n"
     ]
    },
    {
     "data": {
      "text/plain": [
       "<AxesSubplot:xlabel='Administrative_Duration', ylabel='Density'>"
      ]
     },
     "execution_count": 15,
     "metadata": {},
     "output_type": "execute_result"
    },
    {
     "data": {
      "image/png": "[encoded data removed]",
      "text/plain": [
       "<Figure size 432x288 with 1 Axes>"
      ]
     },
     "metadata": {
      "needs_background": "light"
     },
     "output_type": "display_data"
    }
   ],
   "source": [
    "sns.distplot(df1[\"Administrative_Duration\"])"
   ]
  },
  {
   "cell_type": "code",
   "execution_count": 16,
   "id": "658f88a5",
   "metadata": {
    "execution": {
     "iopub.execute_input": "2022-07-04T15:22:44.236390Z",
     "iopub.status.busy": "2022-07-04T15:22:44.235919Z",
     "iopub.status.idle": "2022-07-04T15:22:44.665274Z",
     "shell.execute_reply": "2022-07-04T15:22:44.663914Z"
    },
    "executionInfo": {
     "elapsed": 1317,
     "status": "ok",
     "timestamp": 1656946736963,
     "user": {
      "displayName": "Lakshit Jain",
      "userId": "03169305328764918919"
     },
     "user_tz": -330
    },
    "id": "rvivC1MyRKnd",
    "outputId": "983da541-678c-4a2c-f6af-eb9b771efb22",
    "papermill": {
     "duration": 0.459032,
     "end_time": "2022-07-04T15:22:44.668874",
     "exception": false,
     "start_time": "2022-07-04T15:22:44.209842",
     "status": "completed"
    },
    "tags": []
   },
   "outputs": [
    {
     "name": "stderr",
     "output_type": "stream",
     "text": [
      "/opt/conda/lib/python3.7/site-packages/seaborn/distributions.py:2619: FutureWarning: `distplot` is a deprecated function and will be removed in a future version. Please adapt your code to use either `displot` (a figure-level function with similar flexibility) or `histplot` (an axes-level function for histograms).\n",
      "  warnings.warn(msg, FutureWarning)\n"
     ]
    },
    {
     "data": {
      "text/plain": [
       "<AxesSubplot:xlabel='Informational_Duration', ylabel='Density'>"
      ]
     },
     "execution_count": 16,
     "metadata": {},
     "output_type": "execute_result"
    },
    {
     "data": {
      "image/png": "[encoded data removed]",
      "text/plain": [
       "<Figure size 432x288 with 1 Axes>"
      ]
     },
     "metadata": {
      "needs_background": "light"
     },
     "output_type": "display_data"
    }
   ],
   "source": [
    "sns.distplot(df1[\"Informational_Duration\"])\n"
   ]
  },
  {
   "cell_type": "code",
   "execution_count": 17,
   "id": "57c25908",
   "metadata": {
    "execution": {
     "iopub.execute_input": "2022-07-04T15:22:44.719361Z",
     "iopub.status.busy": "2022-07-04T15:22:44.718559Z",
     "iopub.status.idle": "2022-07-04T15:22:45.144159Z",
     "shell.execute_reply": "2022-07-04T15:22:45.142625Z"
    },
    "executionInfo": {
     "elapsed": 1245,
     "status": "ok",
     "timestamp": 1656946738205,
     "user": {
      "displayName": "Lakshit Jain",
      "userId": "03169305328764918919"
     },
     "user_tz": -330
    },
    "id": "3XAXxHF5RpTx",
    "outputId": "3d122ac5-79fb-414e-fa98-3946245e5fc4",
    "papermill": {
     "duration": 0.4552,
     "end_time": "2022-07-04T15:22:45.147462",
     "exception": false,
     "start_time": "2022-07-04T15:22:44.692262",
     "status": "completed"
    },
    "tags": []
   },
   "outputs": [
    {
     "name": "stderr",
     "output_type": "stream",
     "text": [
      "/opt/conda/lib/python3.7/site-packages/seaborn/distributions.py:2619: FutureWarning: `distplot` is a deprecated function and will be removed in a future version. Please adapt your code to use either `displot` (a figure-level function with similar flexibility) or `histplot` (an axes-level function for histograms).\n",
      "  warnings.warn(msg, FutureWarning)\n"
     ]
    },
    {
     "data": {
      "text/plain": [
       "<AxesSubplot:xlabel='ProductRelated_Duration', ylabel='Density'>"
      ]
     },
     "execution_count": 17,
     "metadata": {},
     "output_type": "execute_result"
    },
    {
     "data": {
      "image/png": "[encoded data removed]",
      "text/plain": [
       "<Figure size 432x288 with 1 Axes>"
      ]
     },
     "metadata": {
      "needs_background": "light"
     },
     "output_type": "display_data"
    }
   ],
   "source": [
    "sns.distplot(df1[\"ProductRelated_Duration\"])\n"
   ]
  },
  {
   "cell_type": "markdown",
   "id": "21b8c99a",
   "metadata": {
    "id": "LC6y-mVzSXob",
    "papermill": {
     "duration": 0.024828,
     "end_time": "2022-07-04T15:22:45.196855",
     "exception": false,
     "start_time": "2022-07-04T15:22:45.172027",
     "status": "completed"
    },
    "tags": []
   },
   "source": [
    "All durations are right skewed"
   ]
  },
  {
   "cell_type": "code",
   "execution_count": 18,
   "id": "923ef634",
   "metadata": {
    "execution": {
     "iopub.execute_input": "2022-07-04T15:22:45.248849Z",
     "iopub.status.busy": "2022-07-04T15:22:45.247611Z",
     "iopub.status.idle": "2022-07-04T15:22:45.488181Z",
     "shell.execute_reply": "2022-07-04T15:22:45.486083Z"
    },
    "executionInfo": {
     "elapsed": 947,
     "status": "ok",
     "timestamp": 1656946739145,
     "user": {
      "displayName": "Lakshit Jain",
      "userId": "03169305328764918919"
     },
     "user_tz": -330
    },
    "id": "8MsaxXoRRyuL",
    "outputId": "2e29db51-9de3-4005-9bbe-835942caffce",
    "papermill": {
     "duration": 0.270941,
     "end_time": "2022-07-04T15:22:45.491744",
     "exception": false,
     "start_time": "2022-07-04T15:22:45.220803",
     "status": "completed"
    },
    "tags": []
   },
   "outputs": [
    {
     "name": "stderr",
     "output_type": "stream",
     "text": [
      "/opt/conda/lib/python3.7/site-packages/seaborn/_decorators.py:43: FutureWarning: Pass the following variables as keyword args: x, y. From version 0.12, the only valid positional argument will be `data`, and passing other arguments without an explicit keyword will result in an error or misinterpretation.\n",
      "  FutureWarning\n"
     ]
    },
    {
     "data": {
      "text/plain": [
       "<AxesSubplot:xlabel='Administrative_Duration', ylabel='Revenue'>"
      ]
     },
     "execution_count": 18,
     "metadata": {},
     "output_type": "execute_result"
    },
    {
     "data": {
      "image/png": "[encoded data removed]",
      "text/plain": [
       "<Figure size 432x288 with 1 Axes>"
      ]
     },
     "metadata": {
      "needs_background": "light"
     },
     "output_type": "display_data"
    }
   ],
   "source": [
    "sns.scatterplot(df1[\"Administrative_Duration\"],df1[\"Revenue\"])"
   ]
  },
  {
   "cell_type": "code",
   "execution_count": 19,
   "id": "b37e352b",
   "metadata": {
    "execution": {
     "iopub.execute_input": "2022-07-04T15:22:45.542419Z",
     "iopub.status.busy": "2022-07-04T15:22:45.541745Z",
     "iopub.status.idle": "2022-07-04T15:22:45.997886Z",
     "shell.execute_reply": "2022-07-04T15:22:45.996828Z"
    },
    "executionInfo": {
     "elapsed": 1738,
     "status": "ok",
     "timestamp": 1656946740872,
     "user": {
      "displayName": "Lakshit Jain",
      "userId": "03169305328764918919"
     },
     "user_tz": -330
    },
    "id": "IK_U4-CoSJEx",
    "outputId": "63ad4fe9-ac9e-4807-9aa3-908898b1e930",
    "papermill": {
     "duration": 0.48426,
     "end_time": "2022-07-04T15:22:46.000839",
     "exception": false,
     "start_time": "2022-07-04T15:22:45.516579",
     "status": "completed"
    },
    "tags": []
   },
   "outputs": [
    {
     "name": "stderr",
     "output_type": "stream",
     "text": [
      "/opt/conda/lib/python3.7/site-packages/seaborn/_decorators.py:43: FutureWarning: Pass the following variables as keyword args: x, y. From version 0.12, the only valid positional argument will be `data`, and passing other arguments without an explicit keyword will result in an error or misinterpretation.\n",
      "  FutureWarning\n"
     ]
    },
    {
     "data": {
      "text/plain": [
       "<AxesSubplot:xlabel='Administrative_Duration', ylabel='Informational_Duration'>"
      ]
     },
     "execution_count": 19,
     "metadata": {},
     "output_type": "execute_result"
    },
    {
     "data": {
      "image/png": "[encoded data removed]",
      "text/plain": [
       "<Figure size 432x288 with 1 Axes>"
      ]
     },
     "metadata": {
      "needs_background": "light"
     },
     "output_type": "display_data"
    }
   ],
   "source": [
    "sns.scatterplot(df1[\"Administrative_Duration\"],df1[\"Informational_Duration\"],c=df1[\"Revenue\"],cmap=\"rainbow\")\n"
   ]
  },
  {
   "cell_type": "markdown",
   "id": "2161a2f5",
   "metadata": {
    "id": "vZv0sWhokI1N",
    "papermill": {
     "duration": 0.025608,
     "end_time": "2022-07-04T15:22:46.053383",
     "exception": false,
     "start_time": "2022-07-04T15:22:46.027775",
     "status": "completed"
    },
    "tags": []
   },
   "source": [
    "**NO relation between duration**"
   ]
  },
  {
   "cell_type": "code",
   "execution_count": 20,
   "id": "bf9d37b5",
   "metadata": {
    "execution": {
     "iopub.execute_input": "2022-07-04T15:22:46.107893Z",
     "iopub.status.busy": "2022-07-04T15:22:46.107374Z",
     "iopub.status.idle": "2022-07-04T15:22:46.134153Z",
     "shell.execute_reply": "2022-07-04T15:22:46.132616Z"
    },
    "executionInfo": {
     "elapsed": 10,
     "status": "ok",
     "timestamp": 1656946740873,
     "user": {
      "displayName": "Lakshit Jain",
      "userId": "03169305328764918919"
     },
     "user_tz": -330
    },
    "id": "w4ve9eJQSPk-",
    "outputId": "f935c14b-642b-400e-d0cf-ebd79877f48c",
    "papermill": {
     "duration": 0.058378,
     "end_time": "2022-07-04T15:22:46.137291",
     "exception": false,
     "start_time": "2022-07-04T15:22:46.078913",
     "status": "completed"
    },
    "tags": []
   },
   "outputs": [
    {
     "data": {
      "text/html": [
       "<div>\n",
       "<style scoped>\n",
       "    .dataframe tbody tr th:only-of-type {\n",
       "        vertical-align: middle;\n",
       "    }\n",
       "\n",
       "    .dataframe tbody tr th {\n",
       "        vertical-align: top;\n",
       "    }\n",
       "\n",
       "    .dataframe thead th {\n",
       "        text-align: right;\n",
       "    }\n",
       "</style>\n",
       "<table border=\"1\" class=\"dataframe\">\n",
       "  <thead>\n",
       "    <tr style=\"text-align: right;\">\n",
       "      <th></th>\n",
       "      <th>Administrative</th>\n",
       "      <th>Administrative_Duration</th>\n",
       "      <th>Informational</th>\n",
       "      <th>Informational_Duration</th>\n",
       "      <th>ProductRelated</th>\n",
       "      <th>ProductRelated_Duration</th>\n",
       "      <th>BounceRates</th>\n",
       "      <th>ExitRates</th>\n",
       "      <th>PageValues</th>\n",
       "      <th>SpecialDay</th>\n",
       "      <th>Month</th>\n",
       "      <th>OperatingSystems</th>\n",
       "      <th>Browser</th>\n",
       "      <th>Region</th>\n",
       "      <th>TrafficType</th>\n",
       "      <th>VisitorType</th>\n",
       "      <th>Weekend</th>\n",
       "      <th>Revenue</th>\n",
       "    </tr>\n",
       "  </thead>\n",
       "  <tbody>\n",
       "    <tr>\n",
       "      <th>0</th>\n",
       "      <td>0</td>\n",
       "      <td>0.0</td>\n",
       "      <td>0</td>\n",
       "      <td>0.0</td>\n",
       "      <td>1</td>\n",
       "      <td>0.000000</td>\n",
       "      <td>0.20</td>\n",
       "      <td>0.20</td>\n",
       "      <td>0.0</td>\n",
       "      <td>0.0</td>\n",
       "      <td>Feb</td>\n",
       "      <td>1</td>\n",
       "      <td>1</td>\n",
       "      <td>1</td>\n",
       "      <td>1</td>\n",
       "      <td>Returning_Visitor</td>\n",
       "      <td>0</td>\n",
       "      <td>0</td>\n",
       "    </tr>\n",
       "    <tr>\n",
       "      <th>1</th>\n",
       "      <td>0</td>\n",
       "      <td>0.0</td>\n",
       "      <td>0</td>\n",
       "      <td>0.0</td>\n",
       "      <td>2</td>\n",
       "      <td>64.000000</td>\n",
       "      <td>0.00</td>\n",
       "      <td>0.10</td>\n",
       "      <td>0.0</td>\n",
       "      <td>0.0</td>\n",
       "      <td>Feb</td>\n",
       "      <td>2</td>\n",
       "      <td>2</td>\n",
       "      <td>1</td>\n",
       "      <td>2</td>\n",
       "      <td>Returning_Visitor</td>\n",
       "      <td>0</td>\n",
       "      <td>0</td>\n",
       "    </tr>\n",
       "    <tr>\n",
       "      <th>2</th>\n",
       "      <td>0</td>\n",
       "      <td>0.0</td>\n",
       "      <td>0</td>\n",
       "      <td>0.0</td>\n",
       "      <td>1</td>\n",
       "      <td>0.000000</td>\n",
       "      <td>0.20</td>\n",
       "      <td>0.20</td>\n",
       "      <td>0.0</td>\n",
       "      <td>0.0</td>\n",
       "      <td>Feb</td>\n",
       "      <td>4</td>\n",
       "      <td>1</td>\n",
       "      <td>9</td>\n",
       "      <td>3</td>\n",
       "      <td>Returning_Visitor</td>\n",
       "      <td>0</td>\n",
       "      <td>0</td>\n",
       "    </tr>\n",
       "    <tr>\n",
       "      <th>3</th>\n",
       "      <td>0</td>\n",
       "      <td>0.0</td>\n",
       "      <td>0</td>\n",
       "      <td>0.0</td>\n",
       "      <td>2</td>\n",
       "      <td>2.666667</td>\n",
       "      <td>0.05</td>\n",
       "      <td>0.14</td>\n",
       "      <td>0.0</td>\n",
       "      <td>0.0</td>\n",
       "      <td>Feb</td>\n",
       "      <td>3</td>\n",
       "      <td>2</td>\n",
       "      <td>2</td>\n",
       "      <td>4</td>\n",
       "      <td>Returning_Visitor</td>\n",
       "      <td>0</td>\n",
       "      <td>0</td>\n",
       "    </tr>\n",
       "    <tr>\n",
       "      <th>4</th>\n",
       "      <td>0</td>\n",
       "      <td>0.0</td>\n",
       "      <td>0</td>\n",
       "      <td>0.0</td>\n",
       "      <td>10</td>\n",
       "      <td>627.500000</td>\n",
       "      <td>0.02</td>\n",
       "      <td>0.05</td>\n",
       "      <td>0.0</td>\n",
       "      <td>0.0</td>\n",
       "      <td>Feb</td>\n",
       "      <td>3</td>\n",
       "      <td>3</td>\n",
       "      <td>1</td>\n",
       "      <td>4</td>\n",
       "      <td>Returning_Visitor</td>\n",
       "      <td>1</td>\n",
       "      <td>0</td>\n",
       "    </tr>\n",
       "  </tbody>\n",
       "</table>\n",
       "</div>"
      ],
      "text/plain": [
       "   Administrative  Administrative_Duration  Informational  \\\n",
       "0               0                      0.0              0   \n",
       "1               0                      0.0              0   \n",
       "2               0                      0.0              0   \n",
       "3               0                      0.0              0   \n",
       "4               0                      0.0              0   \n",
       "\n",
       "   Informational_Duration  ProductRelated  ProductRelated_Duration  \\\n",
       "0                     0.0               1                 0.000000   \n",
       "1                     0.0               2                64.000000   \n",
       "2                     0.0               1                 0.000000   \n",
       "3                     0.0               2                 2.666667   \n",
       "4                     0.0              10               627.500000   \n",
       "\n",
       "   BounceRates  ExitRates  PageValues  SpecialDay Month  OperatingSystems  \\\n",
       "0         0.20       0.20         0.0         0.0   Feb                 1   \n",
       "1         0.00       0.10         0.0         0.0   Feb                 2   \n",
       "2         0.20       0.20         0.0         0.0   Feb                 4   \n",
       "3         0.05       0.14         0.0         0.0   Feb                 3   \n",
       "4         0.02       0.05         0.0         0.0   Feb                 3   \n",
       "\n",
       "   Browser  Region  TrafficType        VisitorType  Weekend  Revenue  \n",
       "0        1       1            1  Returning_Visitor        0        0  \n",
       "1        2       1            2  Returning_Visitor        0        0  \n",
       "2        1       9            3  Returning_Visitor        0        0  \n",
       "3        2       2            4  Returning_Visitor        0        0  \n",
       "4        3       1            4  Returning_Visitor        1        0  "
      ]
     },
     "execution_count": 20,
     "metadata": {},
     "output_type": "execute_result"
    }
   ],
   "source": [
    "df.head()"
   ]
  },
  {
   "cell_type": "code",
   "execution_count": 21,
   "id": "0453a822",
   "metadata": {
    "execution": {
     "iopub.execute_input": "2022-07-04T15:22:46.190937Z",
     "iopub.status.busy": "2022-07-04T15:22:46.190406Z",
     "iopub.status.idle": "2022-07-04T15:22:46.605091Z",
     "shell.execute_reply": "2022-07-04T15:22:46.603571Z"
    },
    "executionInfo": {
     "elapsed": 945,
     "status": "ok",
     "timestamp": 1656946741811,
     "user": {
      "displayName": "Lakshit Jain",
      "userId": "03169305328764918919"
     },
     "user_tz": -330
    },
    "id": "LO5YsBe6SfP8",
    "outputId": "72555819-0f1d-4f18-a6d3-6bf23e731f30",
    "papermill": {
     "duration": 0.445054,
     "end_time": "2022-07-04T15:22:46.608187",
     "exception": false,
     "start_time": "2022-07-04T15:22:46.163133",
     "status": "completed"
    },
    "tags": []
   },
   "outputs": [
    {
     "name": "stderr",
     "output_type": "stream",
     "text": [
      "/opt/conda/lib/python3.7/site-packages/seaborn/distributions.py:2619: FutureWarning: `distplot` is a deprecated function and will be removed in a future version. Please adapt your code to use either `displot` (a figure-level function with similar flexibility) or `histplot` (an axes-level function for histograms).\n",
      "  warnings.warn(msg, FutureWarning)\n"
     ]
    },
    {
     "data": {
      "text/plain": [
       "<AxesSubplot:xlabel='BounceRates', ylabel='Density'>"
      ]
     },
     "execution_count": 21,
     "metadata": {},
     "output_type": "execute_result"
    },
    {
     "data": {
      "image/png": "[encoded data removed]",
      "text/plain": [
       "<Figure size 432x288 with 1 Axes>"
      ]
     },
     "metadata": {
      "needs_background": "light"
     },
     "output_type": "display_data"
    }
   ],
   "source": [
    "sns.distplot(df1[\"BounceRates\"])"
   ]
  },
  {
   "cell_type": "code",
   "execution_count": 22,
   "id": "7001d77c",
   "metadata": {
    "execution": {
     "iopub.execute_input": "2022-07-04T15:22:46.663992Z",
     "iopub.status.busy": "2022-07-04T15:22:46.663134Z",
     "iopub.status.idle": "2022-07-04T15:22:47.064215Z",
     "shell.execute_reply": "2022-07-04T15:22:47.062957Z"
    },
    "executionInfo": {
     "elapsed": 750,
     "status": "ok",
     "timestamp": 1656946742555,
     "user": {
      "displayName": "Lakshit Jain",
      "userId": "03169305328764918919"
     },
     "user_tz": -330
    },
    "id": "p6h2_yxWTaTT",
    "outputId": "3fbdb525-2c26-41d6-8632-02d6c4a758a1",
    "papermill": {
     "duration": 0.432767,
     "end_time": "2022-07-04T15:22:47.067472",
     "exception": false,
     "start_time": "2022-07-04T15:22:46.634705",
     "status": "completed"
    },
    "tags": []
   },
   "outputs": [
    {
     "name": "stderr",
     "output_type": "stream",
     "text": [
      "/opt/conda/lib/python3.7/site-packages/seaborn/distributions.py:2619: FutureWarning: `distplot` is a deprecated function and will be removed in a future version. Please adapt your code to use either `displot` (a figure-level function with similar flexibility) or `histplot` (an axes-level function for histograms).\n",
      "  warnings.warn(msg, FutureWarning)\n"
     ]
    },
    {
     "data": {
      "text/plain": [
       "<AxesSubplot:xlabel='ExitRates', ylabel='Density'>"
      ]
     },
     "execution_count": 22,
     "metadata": {},
     "output_type": "execute_result"
    },
    {
     "data": {
      "image/png": "[encoded data removed]",
      "text/plain": [
       "<Figure size 432x288 with 1 Axes>"
      ]
     },
     "metadata": {
      "needs_background": "light"
     },
     "output_type": "display_data"
    }
   ],
   "source": [
    "sns.distplot(df1[\"ExitRates\"])\n"
   ]
  },
  {
   "cell_type": "code",
   "execution_count": 23,
   "id": "3da049ce",
   "metadata": {
    "execution": {
     "iopub.execute_input": "2022-07-04T15:22:47.127533Z",
     "iopub.status.busy": "2022-07-04T15:22:47.126999Z",
     "iopub.status.idle": "2022-07-04T15:22:47.547572Z",
     "shell.execute_reply": "2022-07-04T15:22:47.545826Z"
    },
    "executionInfo": {
     "elapsed": 502,
     "status": "ok",
     "timestamp": 1656946743047,
     "user": {
      "displayName": "Lakshit Jain",
      "userId": "03169305328764918919"
     },
     "user_tz": -330
    },
    "id": "t-t9BOnWTgfp",
    "outputId": "09c6d68d-8123-490d-ba75-e91ec443fe77",
    "papermill": {
     "duration": 0.454674,
     "end_time": "2022-07-04T15:22:47.550910",
     "exception": false,
     "start_time": "2022-07-04T15:22:47.096236",
     "status": "completed"
    },
    "tags": []
   },
   "outputs": [
    {
     "name": "stderr",
     "output_type": "stream",
     "text": [
      "/opt/conda/lib/python3.7/site-packages/seaborn/distributions.py:2619: FutureWarning: `distplot` is a deprecated function and will be removed in a future version. Please adapt your code to use either `displot` (a figure-level function with similar flexibility) or `histplot` (an axes-level function for histograms).\n",
      "  warnings.warn(msg, FutureWarning)\n"
     ]
    },
    {
     "data": {
      "text/plain": [
       "<AxesSubplot:xlabel='PageValues', ylabel='Density'>"
      ]
     },
     "execution_count": 23,
     "metadata": {},
     "output_type": "execute_result"
    },
    {
     "data": {
      "image/png": "[encoded data removed]",
      "text/plain": [
       "<Figure size 432x288 with 1 Axes>"
      ]
     },
     "metadata": {
      "needs_background": "light"
     },
     "output_type": "display_data"
    }
   ],
   "source": [
    "\n",
    "sns.distplot(df1[\"PageValues\"])\n"
   ]
  },
  {
   "cell_type": "code",
   "execution_count": 24,
   "id": "e775f96e",
   "metadata": {
    "execution": {
     "iopub.execute_input": "2022-07-04T15:22:47.617614Z",
     "iopub.status.busy": "2022-07-04T15:22:47.617119Z",
     "iopub.status.idle": "2022-07-04T15:22:47.861164Z",
     "shell.execute_reply": "2022-07-04T15:22:47.859288Z"
    },
    "executionInfo": {
     "elapsed": 708,
     "status": "ok",
     "timestamp": 1656946743751,
     "user": {
      "displayName": "Lakshit Jain",
      "userId": "03169305328764918919"
     },
     "user_tz": -330
    },
    "id": "yTqN3hFbTnrR",
    "outputId": "add0a704-8b82-4f6a-a961-c07e4c1be149",
    "papermill": {
     "duration": 0.282142,
     "end_time": "2022-07-04T15:22:47.864395",
     "exception": false,
     "start_time": "2022-07-04T15:22:47.582253",
     "status": "completed"
    },
    "tags": []
   },
   "outputs": [
    {
     "name": "stderr",
     "output_type": "stream",
     "text": [
      "/opt/conda/lib/python3.7/site-packages/seaborn/_decorators.py:43: FutureWarning: Pass the following variable as a keyword arg: x. From version 0.12, the only valid positional argument will be `data`, and passing other arguments without an explicit keyword will result in an error or misinterpretation.\n",
      "  FutureWarning\n"
     ]
    },
    {
     "data": {
      "text/plain": [
       "<AxesSubplot:xlabel='Month', ylabel='count'>"
      ]
     },
     "execution_count": 24,
     "metadata": {},
     "output_type": "execute_result"
    },
    {
     "data": {
      "image/png": "[encoded data removed]",
      "text/plain": [
       "<Figure size 432x288 with 1 Axes>"
      ]
     },
     "metadata": {
      "needs_background": "light"
     },
     "output_type": "display_data"
    }
   ],
   "source": [
    "sns.countplot(df1[df1[\"Revenue\"] == 1][\"Month\"])"
   ]
  },
  {
   "cell_type": "code",
   "execution_count": 25,
   "id": "bb3a2187",
   "metadata": {
    "execution": {
     "iopub.execute_input": "2022-07-04T15:22:47.924937Z",
     "iopub.status.busy": "2022-07-04T15:22:47.924377Z",
     "iopub.status.idle": "2022-07-04T15:22:48.194461Z",
     "shell.execute_reply": "2022-07-04T15:22:48.192581Z"
    },
    "executionInfo": {
     "elapsed": 526,
     "status": "ok",
     "timestamp": 1656946744272,
     "user": {
      "displayName": "Lakshit Jain",
      "userId": "03169305328764918919"
     },
     "user_tz": -330
    },
    "id": "c0ZQfLakUUB4",
    "outputId": "92608b7d-9d1a-44a2-a3c5-76cd4c30de28",
    "papermill": {
     "duration": 0.304485,
     "end_time": "2022-07-04T15:22:48.197645",
     "exception": false,
     "start_time": "2022-07-04T15:22:47.893160",
     "status": "completed"
    },
    "tags": []
   },
   "outputs": [
    {
     "name": "stderr",
     "output_type": "stream",
     "text": [
      "/opt/conda/lib/python3.7/site-packages/seaborn/_decorators.py:43: FutureWarning: Pass the following variable as a keyword arg: x. From version 0.12, the only valid positional argument will be `data`, and passing other arguments without an explicit keyword will result in an error or misinterpretation.\n",
      "  FutureWarning\n"
     ]
    },
    {
     "data": {
      "text/plain": [
       "<AxesSubplot:xlabel='Month', ylabel='count'>"
      ]
     },
     "execution_count": 25,
     "metadata": {},
     "output_type": "execute_result"
    },
    {
     "data": {
      "image/png": "[encoded data removed]",
      "text/plain": [
       "<Figure size 432x288 with 1 Axes>"
      ]
     },
     "metadata": {
      "needs_background": "light"
     },
     "output_type": "display_data"
    }
   ],
   "source": [
    "sns.countplot(df1[\"Month\"])\n"
   ]
  },
  {
   "cell_type": "markdown",
   "id": "87012d18",
   "metadata": {
    "id": "FCovZj4YUjqD",
    "papermill": {
     "duration": 0.028653,
     "end_time": "2022-07-04T15:22:48.254369",
     "exception": false,
     "start_time": "2022-07-04T15:22:48.225716",
     "status": "completed"
    },
    "tags": []
   },
   "source": [
    "**depency of month on revenue is similar to the distribution of month**"
   ]
  },
  {
   "cell_type": "code",
   "execution_count": 26,
   "id": "e107b783",
   "metadata": {
    "execution": {
     "iopub.execute_input": "2022-07-04T15:22:48.317272Z",
     "iopub.status.busy": "2022-07-04T15:22:48.316288Z",
     "iopub.status.idle": "2022-07-04T15:22:48.558768Z",
     "shell.execute_reply": "2022-07-04T15:22:48.557491Z"
    },
    "executionInfo": {
     "elapsed": 805,
     "status": "ok",
     "timestamp": 1656946745068,
     "user": {
      "displayName": "Lakshit Jain",
      "userId": "03169305328764918919"
     },
     "user_tz": -330
    },
    "id": "6HiSuavLUhXJ",
    "outputId": "fa75df6e-7284-4d56-abdc-436330c3bcec",
    "papermill": {
     "duration": 0.277747,
     "end_time": "2022-07-04T15:22:48.561656",
     "exception": false,
     "start_time": "2022-07-04T15:22:48.283909",
     "status": "completed"
    },
    "tags": []
   },
   "outputs": [
    {
     "name": "stderr",
     "output_type": "stream",
     "text": [
      "/opt/conda/lib/python3.7/site-packages/seaborn/_decorators.py:43: FutureWarning: Pass the following variable as a keyword arg: x. From version 0.12, the only valid positional argument will be `data`, and passing other arguments without an explicit keyword will result in an error or misinterpretation.\n",
      "  FutureWarning\n"
     ]
    },
    {
     "data": {
      "text/plain": [
       "<AxesSubplot:xlabel='OperatingSystems', ylabel='count'>"
      ]
     },
     "execution_count": 26,
     "metadata": {},
     "output_type": "execute_result"
    },
    {
     "data": {
      "image/png": "[encoded data removed]",
      "text/plain": [
       "<Figure size 432x288 with 1 Axes>"
      ]
     },
     "metadata": {
      "needs_background": "light"
     },
     "output_type": "display_data"
    }
   ],
   "source": [
    "sns.countplot(df1[\"OperatingSystems\"])"
   ]
  },
  {
   "cell_type": "code",
   "execution_count": 27,
   "id": "dd4b443f",
   "metadata": {
    "execution": {
     "iopub.execute_input": "2022-07-04T15:22:48.619792Z",
     "iopub.status.busy": "2022-07-04T15:22:48.619110Z",
     "iopub.status.idle": "2022-07-04T15:22:49.002212Z",
     "shell.execute_reply": "2022-07-04T15:22:48.999929Z"
    },
    "executionInfo": {
     "elapsed": 687,
     "status": "ok",
     "timestamp": 1656946745745,
     "user": {
      "displayName": "Lakshit Jain",
      "userId": "03169305328764918919"
     },
     "user_tz": -330
    },
    "id": "NdPZDFhgVoxw",
    "outputId": "9f79b0f3-2ed2-4c0c-f2e4-006e24c58b82",
    "papermill": {
     "duration": 0.41728,
     "end_time": "2022-07-04T15:22:49.006828",
     "exception": false,
     "start_time": "2022-07-04T15:22:48.589548",
     "status": "completed"
    },
    "tags": []
   },
   "outputs": [
    {
     "name": "stderr",
     "output_type": "stream",
     "text": [
      "/opt/conda/lib/python3.7/site-packages/seaborn/_decorators.py:43: FutureWarning: Pass the following variable as a keyword arg: x. From version 0.12, the only valid positional argument will be `data`, and passing other arguments without an explicit keyword will result in an error or misinterpretation.\n",
      "  FutureWarning\n"
     ]
    },
    {
     "data": {
      "text/plain": [
       "<AxesSubplot:xlabel='Weekend', ylabel='count'>"
      ]
     },
     "execution_count": 27,
     "metadata": {},
     "output_type": "execute_result"
    },
    {
     "data": {
      "image/png": "[encoded data removed]",
      "text/plain": [
       "<Figure size 432x288 with 1 Axes>"
      ]
     },
     "metadata": {
      "needs_background": "light"
     },
     "output_type": "display_data"
    }
   ],
   "source": [
    "sns.countplot(df1[\"Weekend\"])\n"
   ]
  },
  {
   "cell_type": "code",
   "execution_count": 28,
   "id": "3bb94acd",
   "metadata": {
    "execution": {
     "iopub.execute_input": "2022-07-04T15:22:49.069908Z",
     "iopub.status.busy": "2022-07-04T15:22:49.069436Z",
     "iopub.status.idle": "2022-07-04T15:22:49.200028Z",
     "shell.execute_reply": "2022-07-04T15:22:49.198939Z"
    },
    "executionInfo": {
     "elapsed": 13,
     "status": "ok",
     "timestamp": 1656946745746,
     "user": {
      "displayName": "Lakshit Jain",
      "userId": "03169305328764918919"
     },
     "user_tz": -330
    },
    "id": "YddCLIYnVcJQ",
    "outputId": "16a36b16-1f1b-425c-fb6e-d756f3daad30",
    "papermill": {
     "duration": 0.165993,
     "end_time": "2022-07-04T15:22:49.202889",
     "exception": false,
     "start_time": "2022-07-04T15:22:49.036896",
     "status": "completed"
    },
    "tags": []
   },
   "outputs": [
    {
     "name": "stderr",
     "output_type": "stream",
     "text": [
      "/opt/conda/lib/python3.7/site-packages/seaborn/_decorators.py:43: FutureWarning: Pass the following variable as a keyword arg: x. From version 0.12, the only valid positional argument will be `data`, and passing other arguments without an explicit keyword will result in an error or misinterpretation.\n",
      "  FutureWarning\n"
     ]
    },
    {
     "data": {
      "text/plain": [
       "<AxesSubplot:xlabel='Revenue', ylabel='count'>"
      ]
     },
     "execution_count": 28,
     "metadata": {},
     "output_type": "execute_result"
    },
    {
     "data": {
      "image/png": "[encoded data removed]",
      "text/plain": [
       "<Figure size 432x288 with 1 Axes>"
      ]
     },
     "metadata": {
      "needs_background": "light"
     },
     "output_type": "display_data"
    }
   ],
   "source": [
    "sns.countplot(df1[df1[\"Weekend\"] == 1][\"Revenue\"])"
   ]
  },
  {
   "cell_type": "code",
   "execution_count": 29,
   "id": "a73e594c",
   "metadata": {
    "execution": {
     "iopub.execute_input": "2022-07-04T15:22:49.267273Z",
     "iopub.status.busy": "2022-07-04T15:22:49.266361Z",
     "iopub.status.idle": "2022-07-04T15:22:49.292249Z",
     "shell.execute_reply": "2022-07-04T15:22:49.290514Z"
    },
    "executionInfo": {
     "elapsed": 9,
     "status": "ok",
     "timestamp": 1656946745746,
     "user": {
      "displayName": "Lakshit Jain",
      "userId": "03169305328764918919"
     },
     "user_tz": -330
    },
    "id": "ghOcSbV8jlmD",
    "outputId": "693a387f-2983-4a7c-c90d-5e9dd7544956",
    "papermill": {
     "duration": 0.059702,
     "end_time": "2022-07-04T15:22:49.295134",
     "exception": false,
     "start_time": "2022-07-04T15:22:49.235432",
     "status": "completed"
    },
    "tags": []
   },
   "outputs": [
    {
     "data": {
      "text/html": [
       "<div>\n",
       "<style scoped>\n",
       "    .dataframe tbody tr th:only-of-type {\n",
       "        vertical-align: middle;\n",
       "    }\n",
       "\n",
       "    .dataframe tbody tr th {\n",
       "        vertical-align: top;\n",
       "    }\n",
       "\n",
       "    .dataframe thead th {\n",
       "        text-align: right;\n",
       "    }\n",
       "</style>\n",
       "<table border=\"1\" class=\"dataframe\">\n",
       "  <thead>\n",
       "    <tr style=\"text-align: right;\">\n",
       "      <th></th>\n",
       "      <th>Administrative</th>\n",
       "      <th>Administrative_Duration</th>\n",
       "      <th>Informational</th>\n",
       "      <th>Informational_Duration</th>\n",
       "      <th>ProductRelated</th>\n",
       "      <th>ProductRelated_Duration</th>\n",
       "      <th>BounceRates</th>\n",
       "      <th>ExitRates</th>\n",
       "      <th>PageValues</th>\n",
       "      <th>SpecialDay</th>\n",
       "      <th>Month</th>\n",
       "      <th>OperatingSystems</th>\n",
       "      <th>Browser</th>\n",
       "      <th>Region</th>\n",
       "      <th>TrafficType</th>\n",
       "      <th>VisitorType</th>\n",
       "      <th>Weekend</th>\n",
       "      <th>Revenue</th>\n",
       "    </tr>\n",
       "  </thead>\n",
       "  <tbody>\n",
       "    <tr>\n",
       "      <th>0</th>\n",
       "      <td>0</td>\n",
       "      <td>0.0</td>\n",
       "      <td>0</td>\n",
       "      <td>0.0</td>\n",
       "      <td>1</td>\n",
       "      <td>0.000000</td>\n",
       "      <td>0.20</td>\n",
       "      <td>0.20</td>\n",
       "      <td>0.0</td>\n",
       "      <td>0.0</td>\n",
       "      <td>Feb</td>\n",
       "      <td>1</td>\n",
       "      <td>1</td>\n",
       "      <td>1</td>\n",
       "      <td>1</td>\n",
       "      <td>Returning_Visitor</td>\n",
       "      <td>0</td>\n",
       "      <td>0</td>\n",
       "    </tr>\n",
       "    <tr>\n",
       "      <th>1</th>\n",
       "      <td>0</td>\n",
       "      <td>0.0</td>\n",
       "      <td>0</td>\n",
       "      <td>0.0</td>\n",
       "      <td>2</td>\n",
       "      <td>64.000000</td>\n",
       "      <td>0.00</td>\n",
       "      <td>0.10</td>\n",
       "      <td>0.0</td>\n",
       "      <td>0.0</td>\n",
       "      <td>Feb</td>\n",
       "      <td>2</td>\n",
       "      <td>2</td>\n",
       "      <td>1</td>\n",
       "      <td>2</td>\n",
       "      <td>Returning_Visitor</td>\n",
       "      <td>0</td>\n",
       "      <td>0</td>\n",
       "    </tr>\n",
       "    <tr>\n",
       "      <th>2</th>\n",
       "      <td>0</td>\n",
       "      <td>0.0</td>\n",
       "      <td>0</td>\n",
       "      <td>0.0</td>\n",
       "      <td>1</td>\n",
       "      <td>0.000000</td>\n",
       "      <td>0.20</td>\n",
       "      <td>0.20</td>\n",
       "      <td>0.0</td>\n",
       "      <td>0.0</td>\n",
       "      <td>Feb</td>\n",
       "      <td>4</td>\n",
       "      <td>1</td>\n",
       "      <td>9</td>\n",
       "      <td>3</td>\n",
       "      <td>Returning_Visitor</td>\n",
       "      <td>0</td>\n",
       "      <td>0</td>\n",
       "    </tr>\n",
       "    <tr>\n",
       "      <th>3</th>\n",
       "      <td>0</td>\n",
       "      <td>0.0</td>\n",
       "      <td>0</td>\n",
       "      <td>0.0</td>\n",
       "      <td>2</td>\n",
       "      <td>2.666667</td>\n",
       "      <td>0.05</td>\n",
       "      <td>0.14</td>\n",
       "      <td>0.0</td>\n",
       "      <td>0.0</td>\n",
       "      <td>Feb</td>\n",
       "      <td>3</td>\n",
       "      <td>2</td>\n",
       "      <td>2</td>\n",
       "      <td>4</td>\n",
       "      <td>Returning_Visitor</td>\n",
       "      <td>0</td>\n",
       "      <td>0</td>\n",
       "    </tr>\n",
       "    <tr>\n",
       "      <th>4</th>\n",
       "      <td>0</td>\n",
       "      <td>0.0</td>\n",
       "      <td>0</td>\n",
       "      <td>0.0</td>\n",
       "      <td>10</td>\n",
       "      <td>627.500000</td>\n",
       "      <td>0.02</td>\n",
       "      <td>0.05</td>\n",
       "      <td>0.0</td>\n",
       "      <td>0.0</td>\n",
       "      <td>Feb</td>\n",
       "      <td>3</td>\n",
       "      <td>3</td>\n",
       "      <td>1</td>\n",
       "      <td>4</td>\n",
       "      <td>Returning_Visitor</td>\n",
       "      <td>1</td>\n",
       "      <td>0</td>\n",
       "    </tr>\n",
       "  </tbody>\n",
       "</table>\n",
       "</div>"
      ],
      "text/plain": [
       "   Administrative  Administrative_Duration  Informational  \\\n",
       "0               0                      0.0              0   \n",
       "1               0                      0.0              0   \n",
       "2               0                      0.0              0   \n",
       "3               0                      0.0              0   \n",
       "4               0                      0.0              0   \n",
       "\n",
       "   Informational_Duration  ProductRelated  ProductRelated_Duration  \\\n",
       "0                     0.0               1                 0.000000   \n",
       "1                     0.0               2                64.000000   \n",
       "2                     0.0               1                 0.000000   \n",
       "3                     0.0               2                 2.666667   \n",
       "4                     0.0              10               627.500000   \n",
       "\n",
       "   BounceRates  ExitRates  PageValues  SpecialDay Month  OperatingSystems  \\\n",
       "0         0.20       0.20         0.0         0.0   Feb                 1   \n",
       "1         0.00       0.10         0.0         0.0   Feb                 2   \n",
       "2         0.20       0.20         0.0         0.0   Feb                 4   \n",
       "3         0.05       0.14         0.0         0.0   Feb                 3   \n",
       "4         0.02       0.05         0.0         0.0   Feb                 3   \n",
       "\n",
       "   Browser  Region  TrafficType        VisitorType  Weekend  Revenue  \n",
       "0        1       1            1  Returning_Visitor        0        0  \n",
       "1        2       1            2  Returning_Visitor        0        0  \n",
       "2        1       9            3  Returning_Visitor        0        0  \n",
       "3        2       2            4  Returning_Visitor        0        0  \n",
       "4        3       1            4  Returning_Visitor        1        0  "
      ]
     },
     "execution_count": 29,
     "metadata": {},
     "output_type": "execute_result"
    }
   ],
   "source": [
    "df.head()"
   ]
  },
  {
   "cell_type": "markdown",
   "id": "074c9c26",
   "metadata": {
    "id": "WhwiwWfij7MO",
    "papermill": {
     "duration": 0.029313,
     "end_time": "2022-07-04T15:22:49.354145",
     "exception": false,
     "start_time": "2022-07-04T15:22:49.324832",
     "status": "completed"
    },
    "tags": []
   },
   "source": [
    "**Lets check how special Day affects the revenue**"
   ]
  },
  {
   "cell_type": "code",
   "execution_count": 30,
   "id": "98a12b1d",
   "metadata": {
    "execution": {
     "iopub.execute_input": "2022-07-04T15:22:49.416429Z",
     "iopub.status.busy": "2022-07-04T15:22:49.415682Z",
     "iopub.status.idle": "2022-07-04T15:22:49.760757Z",
     "shell.execute_reply": "2022-07-04T15:22:49.758755Z"
    },
    "executionInfo": {
     "elapsed": 1110,
     "status": "ok",
     "timestamp": 1656946746849,
     "user": {
      "displayName": "Lakshit Jain",
      "userId": "03169305328764918919"
     },
     "user_tz": -330
    },
    "id": "oYBbab4sjljy",
    "outputId": "f8866cde-a316-42bf-e946-08c2e01ba84c",
    "papermill": {
     "duration": 0.379837,
     "end_time": "2022-07-04T15:22:49.764471",
     "exception": false,
     "start_time": "2022-07-04T15:22:49.384634",
     "status": "completed"
    },
    "tags": []
   },
   "outputs": [
    {
     "name": "stderr",
     "output_type": "stream",
     "text": [
      "/opt/conda/lib/python3.7/site-packages/seaborn/distributions.py:2619: FutureWarning: `distplot` is a deprecated function and will be removed in a future version. Please adapt your code to use either `displot` (a figure-level function with similar flexibility) or `histplot` (an axes-level function for histograms).\n",
      "  warnings.warn(msg, FutureWarning)\n"
     ]
    },
    {
     "data": {
      "text/plain": [
       "<AxesSubplot:xlabel='SpecialDay', ylabel='Density'>"
      ]
     },
     "execution_count": 30,
     "metadata": {},
     "output_type": "execute_result"
    },
    {
     "data": {
      "image/png": "[encoded data removed]",
      "text/plain": [
       "<Figure size 432x288 with 1 Axes>"
      ]
     },
     "metadata": {
      "needs_background": "light"
     },
     "output_type": "display_data"
    }
   ],
   "source": [
    "sns.distplot(df1[\"SpecialDay\"])"
   ]
  },
  {
   "cell_type": "code",
   "execution_count": 31,
   "id": "dd1e2a29",
   "metadata": {
    "execution": {
     "iopub.execute_input": "2022-07-04T15:22:49.828729Z",
     "iopub.status.busy": "2022-07-04T15:22:49.828158Z",
     "iopub.status.idle": "2022-07-04T15:22:50.324900Z",
     "shell.execute_reply": "2022-07-04T15:22:50.323544Z"
    },
    "executionInfo": {
     "elapsed": 922,
     "status": "ok",
     "timestamp": 1656946747764,
     "user": {
      "displayName": "Lakshit Jain",
      "userId": "03169305328764918919"
     },
     "user_tz": -330
    },
    "id": "7TMT8CX3jlhE",
    "outputId": "53f3c43d-4a52-4d64-f0e5-8b6a6cfb7478",
    "papermill": {
     "duration": 0.532818,
     "end_time": "2022-07-04T15:22:50.327617",
     "exception": false,
     "start_time": "2022-07-04T15:22:49.794799",
     "status": "completed"
    },
    "tags": []
   },
   "outputs": [
    {
     "name": "stderr",
     "output_type": "stream",
     "text": [
      "/opt/conda/lib/python3.7/site-packages/seaborn/_decorators.py:43: FutureWarning: Pass the following variables as keyword args: x, y. From version 0.12, the only valid positional argument will be `data`, and passing other arguments without an explicit keyword will result in an error or misinterpretation.\n",
      "  FutureWarning\n"
     ]
    },
    {
     "data": {
      "text/plain": [
       "<AxesSubplot:xlabel='SpecialDay', ylabel='Revenue'>"
      ]
     },
     "execution_count": 31,
     "metadata": {},
     "output_type": "execute_result"
    },
    {
     "data": {
      "image/png": "[encoded data removed]",
      "text/plain": [
       "<Figure size 432x288 with 1 Axes>"
      ]
     },
     "metadata": {
      "needs_background": "light"
     },
     "output_type": "display_data"
    }
   ],
   "source": [
    "sns.barplot(df1[\"SpecialDay\"],df1[\"Revenue\"])"
   ]
  },
  {
   "cell_type": "code",
   "execution_count": 32,
   "id": "8e50c4ae",
   "metadata": {
    "execution": {
     "iopub.execute_input": "2022-07-04T15:22:50.391160Z",
     "iopub.status.busy": "2022-07-04T15:22:50.390300Z",
     "iopub.status.idle": "2022-07-04T15:22:50.426168Z",
     "shell.execute_reply": "2022-07-04T15:22:50.424492Z"
    },
    "executionInfo": {
     "elapsed": 16,
     "status": "ok",
     "timestamp": 1656946747765,
     "user": {
      "displayName": "Lakshit Jain",
      "userId": "03169305328764918919"
     },
     "user_tz": -330
    },
    "id": "OQ7S09FdlbH0",
    "outputId": "41cc33f5-f554-4d7c-dc9a-e5f39c04bb70",
    "papermill": {
     "duration": 0.072132,
     "end_time": "2022-07-04T15:22:50.429355",
     "exception": false,
     "start_time": "2022-07-04T15:22:50.357223",
     "status": "completed"
    },
    "tags": []
   },
   "outputs": [
    {
     "data": {
      "text/html": [
       "<div>\n",
       "<style scoped>\n",
       "    .dataframe tbody tr th:only-of-type {\n",
       "        vertical-align: middle;\n",
       "    }\n",
       "\n",
       "    .dataframe tbody tr th {\n",
       "        vertical-align: top;\n",
       "    }\n",
       "\n",
       "    .dataframe thead th {\n",
       "        text-align: right;\n",
       "    }\n",
       "</style>\n",
       "<table border=\"1\" class=\"dataframe\">\n",
       "  <thead>\n",
       "    <tr style=\"text-align: right;\">\n",
       "      <th></th>\n",
       "      <th>Administrative</th>\n",
       "      <th>Administrative_Duration</th>\n",
       "      <th>Informational</th>\n",
       "      <th>Informational_Duration</th>\n",
       "      <th>ProductRelated</th>\n",
       "      <th>ProductRelated_Duration</th>\n",
       "      <th>BounceRates</th>\n",
       "      <th>ExitRates</th>\n",
       "      <th>PageValues</th>\n",
       "      <th>SpecialDay</th>\n",
       "      <th>OperatingSystems</th>\n",
       "      <th>Browser</th>\n",
       "      <th>Region</th>\n",
       "      <th>TrafficType</th>\n",
       "      <th>Weekend</th>\n",
       "      <th>Revenue</th>\n",
       "      <th>Moth_encoded</th>\n",
       "      <th>VisitorType_encoded</th>\n",
       "    </tr>\n",
       "  </thead>\n",
       "  <tbody>\n",
       "    <tr>\n",
       "      <th>0</th>\n",
       "      <td>0</td>\n",
       "      <td>0.0</td>\n",
       "      <td>0</td>\n",
       "      <td>0.0</td>\n",
       "      <td>1</td>\n",
       "      <td>0.000000</td>\n",
       "      <td>0.200000</td>\n",
       "      <td>0.200000</td>\n",
       "      <td>0.000000</td>\n",
       "      <td>0.0</td>\n",
       "      <td>1</td>\n",
       "      <td>1</td>\n",
       "      <td>1</td>\n",
       "      <td>1</td>\n",
       "      <td>0</td>\n",
       "      <td>0</td>\n",
       "      <td>2</td>\n",
       "      <td>2</td>\n",
       "    </tr>\n",
       "    <tr>\n",
       "      <th>1</th>\n",
       "      <td>0</td>\n",
       "      <td>0.0</td>\n",
       "      <td>0</td>\n",
       "      <td>0.0</td>\n",
       "      <td>2</td>\n",
       "      <td>64.000000</td>\n",
       "      <td>0.000000</td>\n",
       "      <td>0.100000</td>\n",
       "      <td>0.000000</td>\n",
       "      <td>0.0</td>\n",
       "      <td>2</td>\n",
       "      <td>2</td>\n",
       "      <td>1</td>\n",
       "      <td>2</td>\n",
       "      <td>0</td>\n",
       "      <td>0</td>\n",
       "      <td>2</td>\n",
       "      <td>2</td>\n",
       "    </tr>\n",
       "    <tr>\n",
       "      <th>2</th>\n",
       "      <td>0</td>\n",
       "      <td>0.0</td>\n",
       "      <td>0</td>\n",
       "      <td>0.0</td>\n",
       "      <td>1</td>\n",
       "      <td>0.000000</td>\n",
       "      <td>0.200000</td>\n",
       "      <td>0.200000</td>\n",
       "      <td>0.000000</td>\n",
       "      <td>0.0</td>\n",
       "      <td>4</td>\n",
       "      <td>1</td>\n",
       "      <td>9</td>\n",
       "      <td>3</td>\n",
       "      <td>0</td>\n",
       "      <td>0</td>\n",
       "      <td>2</td>\n",
       "      <td>2</td>\n",
       "    </tr>\n",
       "    <tr>\n",
       "      <th>3</th>\n",
       "      <td>0</td>\n",
       "      <td>0.0</td>\n",
       "      <td>0</td>\n",
       "      <td>0.0</td>\n",
       "      <td>2</td>\n",
       "      <td>2.666667</td>\n",
       "      <td>0.050000</td>\n",
       "      <td>0.140000</td>\n",
       "      <td>0.000000</td>\n",
       "      <td>0.0</td>\n",
       "      <td>3</td>\n",
       "      <td>2</td>\n",
       "      <td>2</td>\n",
       "      <td>4</td>\n",
       "      <td>0</td>\n",
       "      <td>0</td>\n",
       "      <td>2</td>\n",
       "      <td>2</td>\n",
       "    </tr>\n",
       "    <tr>\n",
       "      <th>4</th>\n",
       "      <td>0</td>\n",
       "      <td>0.0</td>\n",
       "      <td>0</td>\n",
       "      <td>0.0</td>\n",
       "      <td>10</td>\n",
       "      <td>627.500000</td>\n",
       "      <td>0.020000</td>\n",
       "      <td>0.050000</td>\n",
       "      <td>0.000000</td>\n",
       "      <td>0.0</td>\n",
       "      <td>3</td>\n",
       "      <td>3</td>\n",
       "      <td>1</td>\n",
       "      <td>4</td>\n",
       "      <td>1</td>\n",
       "      <td>0</td>\n",
       "      <td>2</td>\n",
       "      <td>2</td>\n",
       "    </tr>\n",
       "    <tr>\n",
       "      <th>...</th>\n",
       "      <td>...</td>\n",
       "      <td>...</td>\n",
       "      <td>...</td>\n",
       "      <td>...</td>\n",
       "      <td>...</td>\n",
       "      <td>...</td>\n",
       "      <td>...</td>\n",
       "      <td>...</td>\n",
       "      <td>...</td>\n",
       "      <td>...</td>\n",
       "      <td>...</td>\n",
       "      <td>...</td>\n",
       "      <td>...</td>\n",
       "      <td>...</td>\n",
       "      <td>...</td>\n",
       "      <td>...</td>\n",
       "      <td>...</td>\n",
       "      <td>...</td>\n",
       "    </tr>\n",
       "    <tr>\n",
       "      <th>12325</th>\n",
       "      <td>3</td>\n",
       "      <td>145.0</td>\n",
       "      <td>0</td>\n",
       "      <td>0.0</td>\n",
       "      <td>53</td>\n",
       "      <td>1783.791667</td>\n",
       "      <td>0.007143</td>\n",
       "      <td>0.029031</td>\n",
       "      <td>12.241717</td>\n",
       "      <td>0.0</td>\n",
       "      <td>4</td>\n",
       "      <td>6</td>\n",
       "      <td>1</td>\n",
       "      <td>1</td>\n",
       "      <td>1</td>\n",
       "      <td>0</td>\n",
       "      <td>1</td>\n",
       "      <td>2</td>\n",
       "    </tr>\n",
       "    <tr>\n",
       "      <th>12326</th>\n",
       "      <td>0</td>\n",
       "      <td>0.0</td>\n",
       "      <td>0</td>\n",
       "      <td>0.0</td>\n",
       "      <td>5</td>\n",
       "      <td>465.750000</td>\n",
       "      <td>0.000000</td>\n",
       "      <td>0.021333</td>\n",
       "      <td>0.000000</td>\n",
       "      <td>0.0</td>\n",
       "      <td>3</td>\n",
       "      <td>2</td>\n",
       "      <td>1</td>\n",
       "      <td>8</td>\n",
       "      <td>1</td>\n",
       "      <td>0</td>\n",
       "      <td>7</td>\n",
       "      <td>2</td>\n",
       "    </tr>\n",
       "    <tr>\n",
       "      <th>12327</th>\n",
       "      <td>0</td>\n",
       "      <td>0.0</td>\n",
       "      <td>0</td>\n",
       "      <td>0.0</td>\n",
       "      <td>6</td>\n",
       "      <td>184.250000</td>\n",
       "      <td>0.083333</td>\n",
       "      <td>0.086667</td>\n",
       "      <td>0.000000</td>\n",
       "      <td>0.0</td>\n",
       "      <td>3</td>\n",
       "      <td>2</td>\n",
       "      <td>1</td>\n",
       "      <td>13</td>\n",
       "      <td>1</td>\n",
       "      <td>0</td>\n",
       "      <td>7</td>\n",
       "      <td>2</td>\n",
       "    </tr>\n",
       "    <tr>\n",
       "      <th>12328</th>\n",
       "      <td>4</td>\n",
       "      <td>75.0</td>\n",
       "      <td>0</td>\n",
       "      <td>0.0</td>\n",
       "      <td>15</td>\n",
       "      <td>346.000000</td>\n",
       "      <td>0.000000</td>\n",
       "      <td>0.021053</td>\n",
       "      <td>0.000000</td>\n",
       "      <td>0.0</td>\n",
       "      <td>2</td>\n",
       "      <td>2</td>\n",
       "      <td>3</td>\n",
       "      <td>11</td>\n",
       "      <td>0</td>\n",
       "      <td>0</td>\n",
       "      <td>7</td>\n",
       "      <td>2</td>\n",
       "    </tr>\n",
       "    <tr>\n",
       "      <th>12329</th>\n",
       "      <td>0</td>\n",
       "      <td>0.0</td>\n",
       "      <td>0</td>\n",
       "      <td>0.0</td>\n",
       "      <td>3</td>\n",
       "      <td>21.250000</td>\n",
       "      <td>0.000000</td>\n",
       "      <td>0.066667</td>\n",
       "      <td>0.000000</td>\n",
       "      <td>0.0</td>\n",
       "      <td>3</td>\n",
       "      <td>2</td>\n",
       "      <td>1</td>\n",
       "      <td>2</td>\n",
       "      <td>1</td>\n",
       "      <td>0</td>\n",
       "      <td>7</td>\n",
       "      <td>0</td>\n",
       "    </tr>\n",
       "  </tbody>\n",
       "</table>\n",
       "<p>12330 rows × 18 columns</p>\n",
       "</div>"
      ],
      "text/plain": [
       "       Administrative  Administrative_Duration  Informational  \\\n",
       "0                   0                      0.0              0   \n",
       "1                   0                      0.0              0   \n",
       "2                   0                      0.0              0   \n",
       "3                   0                      0.0              0   \n",
       "4                   0                      0.0              0   \n",
       "...               ...                      ...            ...   \n",
       "12325               3                    145.0              0   \n",
       "12326               0                      0.0              0   \n",
       "12327               0                      0.0              0   \n",
       "12328               4                     75.0              0   \n",
       "12329               0                      0.0              0   \n",
       "\n",
       "       Informational_Duration  ProductRelated  ProductRelated_Duration  \\\n",
       "0                         0.0               1                 0.000000   \n",
       "1                         0.0               2                64.000000   \n",
       "2                         0.0               1                 0.000000   \n",
       "3                         0.0               2                 2.666667   \n",
       "4                         0.0              10               627.500000   \n",
       "...                       ...             ...                      ...   \n",
       "12325                     0.0              53              1783.791667   \n",
       "12326                     0.0               5               465.750000   \n",
       "12327                     0.0               6               184.250000   \n",
       "12328                     0.0              15               346.000000   \n",
       "12329                     0.0               3                21.250000   \n",
       "\n",
       "       BounceRates  ExitRates  PageValues  SpecialDay  OperatingSystems  \\\n",
       "0         0.200000   0.200000    0.000000         0.0                 1   \n",
       "1         0.000000   0.100000    0.000000         0.0                 2   \n",
       "2         0.200000   0.200000    0.000000         0.0                 4   \n",
       "3         0.050000   0.140000    0.000000         0.0                 3   \n",
       "4         0.020000   0.050000    0.000000         0.0                 3   \n",
       "...            ...        ...         ...         ...               ...   \n",
       "12325     0.007143   0.029031   12.241717         0.0                 4   \n",
       "12326     0.000000   0.021333    0.000000         0.0                 3   \n",
       "12327     0.083333   0.086667    0.000000         0.0                 3   \n",
       "12328     0.000000   0.021053    0.000000         0.0                 2   \n",
       "12329     0.000000   0.066667    0.000000         0.0                 3   \n",
       "\n",
       "       Browser  Region  TrafficType  Weekend  Revenue  Moth_encoded  \\\n",
       "0            1       1            1        0        0             2   \n",
       "1            2       1            2        0        0             2   \n",
       "2            1       9            3        0        0             2   \n",
       "3            2       2            4        0        0             2   \n",
       "4            3       1            4        1        0             2   \n",
       "...        ...     ...          ...      ...      ...           ...   \n",
       "12325        6       1            1        1        0             1   \n",
       "12326        2       1            8        1        0             7   \n",
       "12327        2       1           13        1        0             7   \n",
       "12328        2       3           11        0        0             7   \n",
       "12329        2       1            2        1        0             7   \n",
       "\n",
       "       VisitorType_encoded  \n",
       "0                        2  \n",
       "1                        2  \n",
       "2                        2  \n",
       "3                        2  \n",
       "4                        2  \n",
       "...                    ...  \n",
       "12325                    2  \n",
       "12326                    2  \n",
       "12327                    2  \n",
       "12328                    2  \n",
       "12329                    0  \n",
       "\n",
       "[12330 rows x 18 columns]"
      ]
     },
     "execution_count": 32,
     "metadata": {},
     "output_type": "execute_result"
    }
   ],
   "source": [
    "df1 = df1.drop([\"Month\",\"VisitorType\"],axis=1)\n",
    "df1"
   ]
  },
  {
   "cell_type": "markdown",
   "id": "c8cab43f",
   "metadata": {
    "id": "YnKlmE37oVx_",
    "papermill": {
     "duration": 0.031319,
     "end_time": "2022-07-04T15:22:50.492176",
     "exception": false,
     "start_time": "2022-07-04T15:22:50.460857",
     "status": "completed"
    },
    "tags": []
   },
   "source": [
    "Handling the imbalanced dataset"
   ]
  },
  {
   "cell_type": "code",
   "execution_count": 33,
   "id": "16e53d12",
   "metadata": {
    "execution": {
     "iopub.execute_input": "2022-07-04T15:22:50.557012Z",
     "iopub.status.busy": "2022-07-04T15:22:50.556567Z",
     "iopub.status.idle": "2022-07-04T15:22:50.564485Z",
     "shell.execute_reply": "2022-07-04T15:22:50.563544Z"
    },
    "executionInfo": {
     "elapsed": 15,
     "status": "ok",
     "timestamp": 1656946747765,
     "user": {
      "displayName": "Lakshit Jain",
      "userId": "03169305328764918919"
     },
     "user_tz": -330
    },
    "id": "-HcXfTNclbE3",
    "papermill": {
     "duration": 0.043244,
     "end_time": "2022-07-04T15:22:50.566822",
     "exception": false,
     "start_time": "2022-07-04T15:22:50.523578",
     "status": "completed"
    },
    "tags": []
   },
   "outputs": [],
   "source": [
    "X = df1.drop([\"Revenue\"],axis=1)\n",
    "y = df1[\"Revenue\"]"
   ]
  },
  {
   "cell_type": "code",
   "execution_count": 34,
   "id": "c7bc5729",
   "metadata": {
    "execution": {
     "iopub.execute_input": "2022-07-04T15:22:50.632391Z",
     "iopub.status.busy": "2022-07-04T15:22:50.631899Z",
     "iopub.status.idle": "2022-07-04T15:22:51.152198Z",
     "shell.execute_reply": "2022-07-04T15:22:51.150375Z"
    },
    "executionInfo": {
     "elapsed": 15,
     "status": "ok",
     "timestamp": 1656946747766,
     "user": {
      "displayName": "Lakshit Jain",
      "userId": "03169305328764918919"
     },
     "user_tz": -330
    },
    "id": "QhjVMbDtlaXb",
    "papermill": {
     "duration": 0.557455,
     "end_time": "2022-07-04T15:22:51.155641",
     "exception": false,
     "start_time": "2022-07-04T15:22:50.598186",
     "status": "completed"
    },
    "tags": []
   },
   "outputs": [],
   "source": [
    "from imblearn.over_sampling import RandomOverSampler"
   ]
  },
  {
   "cell_type": "code",
   "execution_count": 35,
   "id": "cca6c81e",
   "metadata": {
    "execution": {
     "iopub.execute_input": "2022-07-04T15:22:51.227504Z",
     "iopub.status.busy": "2022-07-04T15:22:51.226987Z",
     "iopub.status.idle": "2022-07-04T15:22:51.265258Z",
     "shell.execute_reply": "2022-07-04T15:22:51.263968Z"
    },
    "executionInfo": {
     "elapsed": 15,
     "status": "ok",
     "timestamp": 1656946747766,
     "user": {
      "displayName": "Lakshit Jain",
      "userId": "03169305328764918919"
     },
     "user_tz": -330
    },
    "id": "0DCI4u3smkrQ",
    "outputId": "2bc69563-08e2-4453-aa4f-dd3fea78f4bb",
    "papermill": {
     "duration": 0.079028,
     "end_time": "2022-07-04T15:22:51.267915",
     "exception": false,
     "start_time": "2022-07-04T15:22:51.188887",
     "status": "completed"
    },
    "tags": []
   },
   "outputs": [
    {
     "name": "stderr",
     "output_type": "stream",
     "text": [
      "/opt/conda/lib/python3.7/site-packages/imblearn/utils/_validation.py:590: FutureWarning: Pass sampling_strategy=0.85 as keyword args. From version 0.9 passing these as positional arguments will result in an error\n",
      "  FutureWarning,\n"
     ]
    },
    {
     "data": {
      "text/plain": [
       "((19280, 17), (19280,))"
      ]
     },
     "execution_count": 35,
     "metadata": {},
     "output_type": "execute_result"
    }
   ],
   "source": [
    "os =  RandomOverSampler(0.85)\n",
    "X_train_res, y_train_res = os.fit_resample(X,y)\n",
    "X_train_res.shape,y_train_res.shape"
   ]
  },
  {
   "cell_type": "code",
   "execution_count": 36,
   "id": "35ee8b03",
   "metadata": {
    "execution": {
     "iopub.execute_input": "2022-07-04T15:22:51.333652Z",
     "iopub.status.busy": "2022-07-04T15:22:51.333147Z",
     "iopub.status.idle": "2022-07-04T15:22:51.338988Z",
     "shell.execute_reply": "2022-07-04T15:22:51.337721Z"
    },
    "executionInfo": {
     "elapsed": 14,
     "status": "ok",
     "timestamp": 1656946747767,
     "user": {
      "displayName": "Lakshit Jain",
      "userId": "03169305328764918919"
     },
     "user_tz": -330
    },
    "id": "2Gjc_XdPmk65",
    "papermill": {
     "duration": 0.042546,
     "end_time": "2022-07-04T15:22:51.341721",
     "exception": false,
     "start_time": "2022-07-04T15:22:51.299175",
     "status": "completed"
    },
    "tags": []
   },
   "outputs": [],
   "source": [
    "from collections import Counter"
   ]
  },
  {
   "cell_type": "code",
   "execution_count": 37,
   "id": "d73f43d6",
   "metadata": {
    "execution": {
     "iopub.execute_input": "2022-07-04T15:22:51.408721Z",
     "iopub.status.busy": "2022-07-04T15:22:51.408192Z",
     "iopub.status.idle": "2022-07-04T15:22:51.422085Z",
     "shell.execute_reply": "2022-07-04T15:22:51.420556Z"
    },
    "executionInfo": {
     "elapsed": 13,
     "status": "ok",
     "timestamp": 1656946747767,
     "user": {
      "displayName": "Lakshit Jain",
      "userId": "03169305328764918919"
     },
     "user_tz": -330
    },
    "id": "87Bg3FMen03-",
    "outputId": "31fa9462-ced9-4999-c1da-b7e90cf488b4",
    "papermill": {
     "duration": 0.051361,
     "end_time": "2022-07-04T15:22:51.424913",
     "exception": false,
     "start_time": "2022-07-04T15:22:51.373552",
     "status": "completed"
    },
    "tags": []
   },
   "outputs": [
    {
     "name": "stdout",
     "output_type": "stream",
     "text": [
      "Original dataset shape Counter({0: 10422, 1: 1908})\n",
      "Resampled dataset shape Counter({0: 10422, 1: 8858})\n"
     ]
    }
   ],
   "source": [
    "print('Original dataset shape {}'.format(Counter(y)))\n",
    "print('Resampled dataset shape {}'.format(Counter(y_train_res)))"
   ]
  },
  {
   "cell_type": "markdown",
   "id": "4d01d132",
   "metadata": {
    "id": "qbn_bT0Topc_",
    "papermill": {
     "duration": 0.031227,
     "end_time": "2022-07-04T15:22:51.487964",
     "exception": false,
     "start_time": "2022-07-04T15:22:51.456737",
     "status": "completed"
    },
    "tags": []
   },
   "source": [
    "Machine learning"
   ]
  },
  {
   "cell_type": "code",
   "execution_count": 38,
   "id": "d43cf198",
   "metadata": {
    "execution": {
     "iopub.execute_input": "2022-07-04T15:22:51.553567Z",
     "iopub.status.busy": "2022-07-04T15:22:51.553145Z",
     "iopub.status.idle": "2022-07-04T15:22:51.563474Z",
     "shell.execute_reply": "2022-07-04T15:22:51.562244Z"
    },
    "executionInfo": {
     "elapsed": 11,
     "status": "ok",
     "timestamp": 1656946747767,
     "user": {
      "displayName": "Lakshit Jain",
      "userId": "03169305328764918919"
     },
     "user_tz": -330
    },
    "id": "0-ctoB_wo9ZA",
    "papermill": {
     "duration": 0.047143,
     "end_time": "2022-07-04T15:22:51.566034",
     "exception": false,
     "start_time": "2022-07-04T15:22:51.518891",
     "status": "completed"
    },
    "tags": []
   },
   "outputs": [],
   "source": [
    "from sklearn.model_selection import train_test_split\n",
    "X_train, X_test, y_train, y_test = train_test_split(X, y, test_size=0.33, random_state=42)"
   ]
  },
  {
   "cell_type": "markdown",
   "id": "89761a41",
   "metadata": {
    "id": "6ON1cHmlpPK5",
    "papermill": {
     "duration": 0.032355,
     "end_time": "2022-07-04T15:22:51.628774",
     "exception": false,
     "start_time": "2022-07-04T15:22:51.596419",
     "status": "completed"
    },
    "tags": []
   },
   "source": [
    "Logistic Regression"
   ]
  },
  {
   "cell_type": "code",
   "execution_count": 39,
   "id": "772687dd",
   "metadata": {
    "execution": {
     "iopub.execute_input": "2022-07-04T15:22:51.694859Z",
     "iopub.status.busy": "2022-07-04T15:22:51.694397Z",
     "iopub.status.idle": "2022-07-04T15:22:51.700425Z",
     "shell.execute_reply": "2022-07-04T15:22:51.698957Z"
    },
    "executionInfo": {
     "elapsed": 10,
     "status": "ok",
     "timestamp": 1656946747767,
     "user": {
      "displayName": "Lakshit Jain",
      "userId": "03169305328764918919"
     },
     "user_tz": -330
    },
    "id": "X7SXdVeQopR8",
    "papermill": {
     "duration": 0.042374,
     "end_time": "2022-07-04T15:22:51.703602",
     "exception": false,
     "start_time": "2022-07-04T15:22:51.661228",
     "status": "completed"
    },
    "tags": []
   },
   "outputs": [],
   "source": [
    "from sklearn.linear_model import LogisticRegression"
   ]
  },
  {
   "cell_type": "code",
   "execution_count": 40,
   "id": "c77d23f9",
   "metadata": {
    "execution": {
     "iopub.execute_input": "2022-07-04T15:22:51.768350Z",
     "iopub.status.busy": "2022-07-04T15:22:51.767922Z",
     "iopub.status.idle": "2022-07-04T15:22:51.973850Z",
     "shell.execute_reply": "2022-07-04T15:22:51.972635Z"
    },
    "executionInfo": {
     "elapsed": 628,
     "status": "ok",
     "timestamp": 1656946748385,
     "user": {
      "displayName": "Lakshit Jain",
      "userId": "03169305328764918919"
     },
     "user_tz": -330
    },
    "id": "eGrOgAq-n7L4",
    "outputId": "e4aa62b1-0c4b-4d48-a16e-862b7b910d85",
    "papermill": {
     "duration": 0.243114,
     "end_time": "2022-07-04T15:22:51.978719",
     "exception": false,
     "start_time": "2022-07-04T15:22:51.735605",
     "status": "completed"
    },
    "tags": []
   },
   "outputs": [
    {
     "name": "stderr",
     "output_type": "stream",
     "text": [
      "/opt/conda/lib/python3.7/site-packages/sklearn/linear_model/_logistic.py:818: ConvergenceWarning: lbfgs failed to converge (status=1):\n",
      "STOP: TOTAL NO. of ITERATIONS REACHED LIMIT.\n",
      "\n",
      "Increase the number of iterations (max_iter) or scale the data as shown in:\n",
      "    https://scikit-learn.org/stable/modules/preprocessing.html\n",
      "Please also refer to the documentation for alternative solver options:\n",
      "    https://scikit-learn.org/stable/modules/linear_model.html#logistic-regression\n",
      "  extra_warning_msg=_LOGISTIC_SOLVER_CONVERGENCE_MSG,\n"
     ]
    },
    {
     "data": {
      "text/plain": [
       "0.8783484885721308"
      ]
     },
     "execution_count": 40,
     "metadata": {},
     "output_type": "execute_result"
    }
   ],
   "source": [
    "clf = LogisticRegression()\n",
    "clf.fit(X_train,y_train)\n",
    "clf.score(X_test,y_test)"
   ]
  },
  {
   "cell_type": "markdown",
   "id": "160e6ea4",
   "metadata": {
    "id": "q5H0k9GepSKA",
    "papermill": {
     "duration": 0.053327,
     "end_time": "2022-07-04T15:22:52.095159",
     "exception": false,
     "start_time": "2022-07-04T15:22:52.041832",
     "status": "completed"
    },
    "tags": []
   },
   "source": [
    "SVM"
   ]
  },
  {
   "cell_type": "code",
   "execution_count": 41,
   "id": "9a9aad3e",
   "metadata": {
    "execution": {
     "iopub.execute_input": "2022-07-04T15:22:52.164333Z",
     "iopub.status.busy": "2022-07-04T15:22:52.163859Z",
     "iopub.status.idle": "2022-07-04T15:22:54.621511Z",
     "shell.execute_reply": "2022-07-04T15:22:54.619713Z"
    },
    "executionInfo": {
     "elapsed": 2225,
     "status": "ok",
     "timestamp": 1656946750608,
     "user": {
      "displayName": "Lakshit Jain",
      "userId": "03169305328764918919"
     },
     "user_tz": -330
    },
    "id": "z6Kp-5Htoyrd",
    "outputId": "bdcef6d6-a45e-4f29-bcfb-f087343840b4",
    "papermill": {
     "duration": 2.495674,
     "end_time": "2022-07-04T15:22:54.624742",
     "exception": false,
     "start_time": "2022-07-04T15:22:52.129068",
     "status": "completed"
    },
    "tags": []
   },
   "outputs": [
    {
     "data": {
      "text/plain": [
       "0.845908085524699"
      ]
     },
     "execution_count": 41,
     "metadata": {},
     "output_type": "execute_result"
    }
   ],
   "source": [
    "from sklearn import svm\n",
    "clf = svm.SVC(kernel=\"rbf\")\n",
    "clf.fit(X_train,y_train)\n",
    "clf.score(X_test,y_test)"
   ]
  },
  {
   "cell_type": "code",
   "execution_count": 42,
   "id": "67e331b6",
   "metadata": {
    "execution": {
     "iopub.execute_input": "2022-07-04T15:22:54.693675Z",
     "iopub.status.busy": "2022-07-04T15:22:54.692841Z",
     "iopub.status.idle": "2022-07-04T15:22:56.913678Z",
     "shell.execute_reply": "2022-07-04T15:22:56.912135Z"
    },
    "executionInfo": {
     "elapsed": 2187,
     "status": "ok",
     "timestamp": 1656946752793,
     "user": {
      "displayName": "Lakshit Jain",
      "userId": "03169305328764918919"
     },
     "user_tz": -330
    },
    "id": "VVaF0VbXq4r6",
    "outputId": "7b980c8f-47bb-421c-e121-75549f69e4d0",
    "papermill": {
     "duration": 2.259864,
     "end_time": "2022-07-04T15:22:56.916541",
     "exception": false,
     "start_time": "2022-07-04T15:22:54.656677",
     "status": "completed"
    },
    "tags": []
   },
   "outputs": [
    {
     "data": {
      "text/plain": [
       "0.7598918653231752"
      ]
     },
     "execution_count": 42,
     "metadata": {},
     "output_type": "execute_result"
    }
   ],
   "source": [
    "from sklearn import svm\n",
    "clf = svm.SVC(kernel=\"sigmoid\")\n",
    "clf.fit(X_train,y_train)\n",
    "clf.score(X_test,y_test)"
   ]
  },
  {
   "cell_type": "markdown",
   "id": "595e9f73",
   "metadata": {
    "id": "88VCHqmPyUw3",
    "papermill": {
     "duration": 0.032463,
     "end_time": "2022-07-04T15:22:56.982862",
     "exception": false,
     "start_time": "2022-07-04T15:22:56.950399",
     "status": "completed"
    },
    "tags": []
   },
   "source": [
    "Decision Tree"
   ]
  },
  {
   "cell_type": "code",
   "execution_count": 43,
   "id": "344ba7c5",
   "metadata": {
    "execution": {
     "iopub.execute_input": "2022-07-04T15:22:57.053663Z",
     "iopub.status.busy": "2022-07-04T15:22:57.052791Z",
     "iopub.status.idle": "2022-07-04T15:22:57.119604Z",
     "shell.execute_reply": "2022-07-04T15:22:57.117546Z"
    },
    "executionInfo": {
     "elapsed": 390,
     "status": "ok",
     "timestamp": 1656947885991,
     "user": {
      "displayName": "Lakshit Jain",
      "userId": "03169305328764918919"
     },
     "user_tz": -330
    },
    "id": "cBxHvX9fyUn3",
    "outputId": "cac819b6-4d1d-4d14-b597-b1627c610998",
    "papermill": {
     "duration": 0.105529,
     "end_time": "2022-07-04T15:22:57.122995",
     "exception": false,
     "start_time": "2022-07-04T15:22:57.017466",
     "status": "completed"
    },
    "tags": []
   },
   "outputs": [
    {
     "data": {
      "text/plain": [
       "0.8604079626443843"
      ]
     },
     "execution_count": 43,
     "metadata": {},
     "output_type": "execute_result"
    }
   ],
   "source": [
    "from sklearn.tree import DecisionTreeClassifier\n",
    "clf = DecisionTreeClassifier()\n",
    "clf.fit(X_train,y_train)\n",
    "clf.score(X_test,y_test)"
   ]
  },
  {
   "cell_type": "code",
   "execution_count": null,
   "id": "ed18a03e",
   "metadata": {
    "executionInfo": {
     "elapsed": 8,
     "status": "ok",
     "timestamp": 1656946752794,
     "user": {
      "displayName": "Lakshit Jain",
      "userId": "03169305328764918919"
     },
     "user_tz": -330
    },
    "id": "6_lqOnwkq6_1",
    "papermill": {
     "duration": 0.032624,
     "end_time": "2022-07-04T15:22:57.189242",
     "exception": false,
     "start_time": "2022-07-04T15:22:57.156618",
     "status": "completed"
    },
    "tags": []
   },
   "outputs": [],
   "source": []
  }
 ],
 "metadata": {
  "kernelspec": {
   "display_name": "Python 3",
   "language": "python",
   "name": "python3"
  },
  "language_info": {
   "codemirror_mode": {
    "name": "ipython",
    "version": 3
   },
   "file_extension": ".py",
   "mimetype": "text/x-python",
   "name": "python",
   "nbconvert_exporter": "python",
   "pygments_lexer": "ipython3",
   "version": "3.7.12"
  },
  "papermill": {
   "default_parameters": {},
   "duration": 33.560296,
   "end_time": "2022-07-04T15:22:58.249212",
   "environment_variables": {},
   "exception": null,
   "input_path": "__notebook__.ipynb",
   "output_path": "__notebook__.ipynb",
   "parameters": {},
   "start_time": "2022-07-04T15:22:24.688916",
   "version": "2.3.4"
  }
 },
 "nbformat": 4,
 "nbformat_minor": 5
}
